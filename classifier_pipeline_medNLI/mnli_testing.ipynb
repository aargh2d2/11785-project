{
 "metadata": {
  "language_info": {
   "codemirror_mode": {
    "name": "ipython",
    "version": 3
   },
   "file_extension": ".py",
   "mimetype": "text/x-python",
   "name": "python",
   "nbconvert_exporter": "python",
   "pygments_lexer": "ipython3",
   "version": "3.7.6-final"
  },
  "orig_nbformat": 2,
  "kernelspec": {
   "name": "python3",
   "display_name": "Python 3"
  }
 },
 "nbformat": 4,
 "nbformat_minor": 2,
 "cells": [
  {
   "cell_type": "code",
   "execution_count": 104,
   "metadata": {},
   "outputs": [],
   "source": [
    "\n",
    "import json\n",
    "import csv\n",
    "import torch\n",
    "from torch.utils.data import Dataset,DataLoader\n",
    "\n",
    "from loguru import logger\n",
    "import pytorch_lightning as pl\n",
    "\n",
    "from torchnlp.utils import collate_tensors, lengths_to_mask\n",
    "\n",
    "from transformers import AutoTokenizer\n",
    "\n",
    "\n",
    "\n",
    "def load_mednli(datadir='../data/mednli/'):\n",
    "    filenames = [\n",
    "        'mli_train_v1.jsonl',\n",
    "        'mli_dev_v1.jsonl',\n",
    "        'mli_test_v1.jsonl',\n",
    "    ]\n",
    "\n",
    "    filenames = [datadir+f  for f in filenames]\n",
    "\n",
    "    mednli_train, mednli_dev, mednli_test = [read_mednli(f) for f in filenames]\n",
    "\n",
    "    return mednli_train, mednli_dev, mednli_test\n",
    "\n",
    "\n",
    "def read_mednli(filename) -> list:\n",
    "    data = []\n",
    "\n",
    "    with open(filename, 'r') as f:\n",
    "        for line in f:\n",
    "            example = json.loads(line)\n",
    "\n",
    "            premise = (example['sentence1'])\n",
    "            hypothesis = (example['sentence2'])\n",
    "            label = example.get('gold_label', None)\n",
    "            data.append((premise,hypothesis,label))\n",
    "\n",
    "    print(f'MedNLI file loaded: {filename}, {len(data)} examples')\n",
    "    return data\n",
    "\n",
    "\n",
    "class MedNLIDataset(torch.utils.data.Dataset):\n",
    "    LABEL_TO_ID = {'contradiction': 0, 'entailment': 1, 'neutral': 2}\n",
    "\n",
    "    def __init__(self, hparams,mednli_data):\n",
    "        self.premises, self.hypotheses, labels = zip(*mednli_data)\n",
    "\n",
    "        self.tokenizer = AutoTokenizer.from_pretrained('distilbert-base-uncased')#hparams.encoder_model)\n",
    "        self.labels = [MedNLIDataset.LABEL_TO_ID[l] if l is not None else -1 for l in labels]\n",
    "\n",
    "    def __getitem__(self, index):\n",
    "        premise = self.premises[index]\n",
    "        hypothesis = self.hypotheses[index]\n",
    "        label = self.labels[index]\n",
    "        encoded_inputs = self.tokenizer(premise, hypothesis, truncation=True)\n",
    "        return encoded_inputs, label\n",
    "\n",
    "    def __len__(self):\n",
    "        return len(self.labels)\n",
    "\n",
    "\n",
    "class MedNLIDataModule(pl.LightningDataModule):\n",
    "        def __init__(self, hparams=None):\n",
    "            super().__init__()\n",
    "            self.hparams = hparams\n",
    "            # if self.hparams.transformer_type == 'longformer':\n",
    "            #     self.hparams.batch_size = 1\n",
    "\n",
    "\n",
    "        def setup(self, stage=None):\n",
    "            mednli_train, mednli_dev, mednli_test = load_mednli()\n",
    "            self.train_dataset, self.val_dataset, self.test_dataset = MedNLIDataset(self.hparams,mednli_train),MedNLIDataset(self.hparams,mednli_dev),MedNLIDataset(self.hparams,mednli_test)\n",
    "            logger.info('MedNLI JSONs loaded...')\n",
    "\n",
    "        def train_dataloader(self) -> DataLoader:\n",
    "            logger.warning('Loading training data...')\n",
    "            return DataLoader(\n",
    "                dataset=self.train_dataset,\n",
    "                shuffle=True,\n",
    "                batch_size=1,\n",
    "            )\n",
    "        def val_dataloader(self) -> DataLoader:\n",
    "            logger.warning('Loading validation data...')\n",
    "            return DataLoader(\n",
    "                dataset=self.val_dataset,\n",
    "                shuffle= False,\n",
    "                batch_size= 1,\n",
    "            )\n",
    "        def test_dataloader(self) -> DataLoader:\n",
    "            logger.warning('Loading testing data...')\n",
    "            return DataLoader(\n",
    "                dataset=self.test_dataset,\n",
    "                shuffle= False,\n",
    "                batch_size=1,\n",
    "            )\n"
   ]
  },
  {
   "cell_type": "code",
   "execution_count": 105,
   "metadata": {},
   "outputs": [
    {
     "output_type": "stream",
     "name": "stdout",
     "text": [
      "MedNLI file loaded: ../data/mednli/mli_train_v1.jsonl, 11232 examples\n",
      "MedNLI file loaded: ../data/mednli/mli_dev_v1.jsonl, 1395 examples\n",
      "MedNLI file loaded: ../data/mednli/mli_test_v1.jsonl, 1422 examples\n",
      "2020-11-27 10:27:16.958 | INFO     | __main__:setup:76 - MedNLI JSONs loaded...\n",
      "2020-11-27 10:27:16.960 | WARNING  | __main__:test_dataloader:93 - Loading testing data...\n"
     ]
    },
    {
     "output_type": "execute_result",
     "data": {
      "text/plain": [
       "<torch.utils.data.dataloader.DataLoader at 0x7fdbefd74090>"
      ]
     },
     "metadata": {},
     "execution_count": 105
    }
   ],
   "source": [
    "dm = MedNLIDataModule(None)\n",
    "dm.setup()\n",
    "test_dl = dm.test_dataloader()\n",
    "test_dl"
   ]
  },
  {
   "cell_type": "code",
   "execution_count": 109,
   "metadata": {},
   "outputs": [],
   "source": [
    "batch = next(iter(test_dl))\n",
    "input, target = batch\n"
   ]
  },
  {
   "cell_type": "code",
   "execution_count": 112,
   "metadata": {},
   "outputs": [
    {
     "output_type": "error",
     "ename": "TypeError",
     "evalue": "__init__() takes 1 positional argument but 2 were given",
     "traceback": [
      "\u001b[0;31m---------------------------------------------------------------------------\u001b[0m",
      "\u001b[0;31mTypeError\u001b[0m                                 Traceback (most recent call last)",
      "\u001b[0;32m<ipython-input-112-0712fb22dd34>\u001b[0m in \u001b[0;36m<module>\u001b[0;34m\u001b[0m\n\u001b[1;32m      1\u001b[0m \u001b[0;32mfrom\u001b[0m \u001b[0mtransformers\u001b[0m \u001b[0;32mimport\u001b[0m \u001b[0mAutoModelForSequenceClassification\u001b[0m\u001b[0;34m,\u001b[0m \u001b[0mTrainingArguments\u001b[0m\u001b[0;34m,\u001b[0m \u001b[0mTrainer\u001b[0m\u001b[0;34m\u001b[0m\u001b[0;34m\u001b[0m\u001b[0m\n\u001b[0;32m----> 2\u001b[0;31m \u001b[0mmodel\u001b[0m \u001b[0;34m=\u001b[0m \u001b[0mAutoModelForSequenceClassification\u001b[0m\u001b[0;34m(\u001b[0m\u001b[0;34m'bert-base-uncased'\u001b[0m\u001b[0;34m)\u001b[0m\u001b[0;34m\u001b[0m\u001b[0;34m\u001b[0m\u001b[0m\n\u001b[0m",
      "\u001b[0;31mTypeError\u001b[0m: __init__() takes 1 positional argument but 2 were given"
     ]
    }
   ],
   "source": [
    "from transformers import AutoModelForSequenceClassification, TrainingArguments, Trainer\n",
    "model = AutoModelForSequenceClassification.from_pretrained('distilbert-base-uncased ')\n"
   ]
  },
  {
   "cell_type": "code",
   "execution_count": null,
   "metadata": {},
   "outputs": [],
   "source": []
  },
  {
   "cell_type": "code",
   "execution_count": 44,
   "metadata": {},
   "outputs": [
    {
     "output_type": "execute_result",
     "data": {
      "text/plain": [
       "{'input_ids': [[101, 13625, 2020, 3862, 2005, 13675, 1015, 1012, 1021, 1006, 26163, 1014, 1012, 1019, 2566, 2214, 2636, 1007, 1998, 18749, 12259, 1016, 1012, 1018, 1012, 102, 5776, 2038, 8319, 13675, 102], [101, 13625, 2020, 3862, 2005, 13675, 1015, 1012, 1021, 1006, 26163, 1014, 1012, 1019, 2566, 2214, 2636, 1007, 1998, 18749, 12259, 1016, 1012, 1018, 1012, 102, 5776, 2038, 3671, 13675, 102], [101, 13625, 2020, 3862, 2005, 13675, 1015, 1012, 1021, 1006, 26163, 1014, 1012, 1019, 2566, 2214, 2636, 1007, 1998, 18749, 12259, 1016, 1012, 1018, 1012, 102, 5776, 2038, 8319, 21122, 102], [101, 6396, 9153, 21693, 2271, 1998, 1056, 12414, 2075, 1997, 1054, 2849, 2001, 3264, 1012, 102, 1996, 5776, 2018, 19470, 11265, 10976, 11360, 1012, 102], [101, 6396, 9153, 21693, 2271, 1998, 1056, 12414, 2075, 1997, 1054, 2849, 2001, 3264, 1012, 102, 1996, 5776, 2038, 1037, 3671, 11265, 10976, 11360, 1012, 102]], 'token_type_ids': [[0, 0, 0, 0, 0, 0, 0, 0, 0, 0, 0, 0, 0, 0, 0, 0, 0, 0, 0, 0, 0, 0, 0, 0, 0, 0, 1, 1, 1, 1, 1], [0, 0, 0, 0, 0, 0, 0, 0, 0, 0, 0, 0, 0, 0, 0, 0, 0, 0, 0, 0, 0, 0, 0, 0, 0, 0, 1, 1, 1, 1, 1], [0, 0, 0, 0, 0, 0, 0, 0, 0, 0, 0, 0, 0, 0, 0, 0, 0, 0, 0, 0, 0, 0, 0, 0, 0, 0, 1, 1, 1, 1, 1], [0, 0, 0, 0, 0, 0, 0, 0, 0, 0, 0, 0, 0, 0, 0, 0, 1, 1, 1, 1, 1, 1, 1, 1, 1], [0, 0, 0, 0, 0, 0, 0, 0, 0, 0, 0, 0, 0, 0, 0, 0, 1, 1, 1, 1, 1, 1, 1, 1, 1, 1]], 'attention_mask': [[1, 1, 1, 1, 1, 1, 1, 1, 1, 1, 1, 1, 1, 1, 1, 1, 1, 1, 1, 1, 1, 1, 1, 1, 1, 1, 1, 1, 1, 1, 1], [1, 1, 1, 1, 1, 1, 1, 1, 1, 1, 1, 1, 1, 1, 1, 1, 1, 1, 1, 1, 1, 1, 1, 1, 1, 1, 1, 1, 1, 1, 1], [1, 1, 1, 1, 1, 1, 1, 1, 1, 1, 1, 1, 1, 1, 1, 1, 1, 1, 1, 1, 1, 1, 1, 1, 1, 1, 1, 1, 1, 1, 1], [1, 1, 1, 1, 1, 1, 1, 1, 1, 1, 1, 1, 1, 1, 1, 1, 1, 1, 1, 1, 1, 1, 1, 1, 1], [1, 1, 1, 1, 1, 1, 1, 1, 1, 1, 1, 1, 1, 1, 1, 1, 1, 1, 1, 1, 1, 1, 1, 1, 1, 1]]}"
      ]
     },
     "metadata": {},
     "execution_count": 44
    }
   ],
   "source": [
    "preprocess_function(trn[:5])"
   ]
  },
  {
   "cell_type": "code",
   "execution_count": 45,
   "metadata": {},
   "outputs": [
    {
     "output_type": "error",
     "ename": "AttributeError",
     "evalue": "'list' object has no attribute 'map'",
     "traceback": [
      "\u001b[0;31m---------------------------------------------------------------------------\u001b[0m",
      "\u001b[0;31mAttributeError\u001b[0m                            Traceback (most recent call last)",
      "\u001b[0;32m<ipython-input-45-a738d73f4331>\u001b[0m in \u001b[0;36m<module>\u001b[0;34m\u001b[0m\n\u001b[0;32m----> 1\u001b[0;31m \u001b[0mencoded_dataset\u001b[0m \u001b[0;34m=\u001b[0m \u001b[0mtest\u001b[0m\u001b[0;34m.\u001b[0m\u001b[0mmap\u001b[0m\u001b[0;34m(\u001b[0m\u001b[0mpreprocess_function\u001b[0m\u001b[0;34m,\u001b[0m \u001b[0mbatched\u001b[0m\u001b[0;34m=\u001b[0m\u001b[0;32mTrue\u001b[0m\u001b[0;34m)\u001b[0m\u001b[0;34m\u001b[0m\u001b[0;34m\u001b[0m\u001b[0m\n\u001b[0m\u001b[1;32m      2\u001b[0m \u001b[0mencoded_dataset\u001b[0m\u001b[0;34m\u001b[0m\u001b[0;34m\u001b[0m\u001b[0m\n",
      "\u001b[0;31mAttributeError\u001b[0m: 'list' object has no attribute 'map'"
     ]
    }
   ],
   "source": [
    "encoded_dataset = test.map(preprocess_function, batched=True)\n",
    "encoded_dataset"
   ]
  },
  {
   "cell_type": "code",
   "execution_count": null,
   "metadata": {},
   "outputs": [],
   "source": []
  }
 ]
}