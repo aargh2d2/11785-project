{
 "metadata": {
  "language_info": {
   "codemirror_mode": {
    "name": "ipython",
    "version": 3
   },
   "file_extension": ".py",
   "mimetype": "text/x-python",
   "name": "python",
   "nbconvert_exporter": "python",
   "pygments_lexer": "ipython3",
   "version": "3.7.6-final"
  },
  "orig_nbformat": 2,
  "kernelspec": {
   "name": "python3",
   "display_name": "Python 3"
  }
 },
 "nbformat": 4,
 "nbformat_minor": 2,
 "cells": [
  {
   "cell_type": "code",
   "execution_count": 38,
   "metadata": {},
   "outputs": [],
   "source": [
    "import json\n",
    "import csv\n",
    "import torch\n",
    "from torch.utils.data import Dataset,DataLoader\n",
    "\n",
    "from loguru import logger\n",
    "import pytorch_lightning as pl\n",
    "\n",
    "from torchnlp.utils import collate_tensors, lengths_to_mask\n",
    "\n",
    "from transformers import AutoTokenizer\n",
    "\n",
    "def load_mednli(datadir='../data/mednli/'):\n",
    "    filenames = [\n",
    "        'mli_train_v1.jsonl',\n",
    "        'mli_dev_v1.jsonl',\n",
    "        'mli_test_v1.jsonl',\n",
    "    ]\n",
    "\n",
    "    filenames = [datadir+f  for f in filenames]\n",
    "\n",
    "    mednli_train, mednli_dev, mednli_test = [read_mednli(f) for f in filenames]\n",
    "\n",
    "    return mednli_train, mednli_dev, mednli_test\n",
    "\n",
    "\n",
    "def read_mednli(filename) -> list:\n",
    "    data = []\n",
    "\n",
    "    with open(filename, 'r') as f:\n",
    "        for line in f:\n",
    "            example = json.loads(line)\n",
    "            premise = (example['sentence1'])\n",
    "            hypothesis = (example['sentence2'])\n",
    "            label = example.get('gold_label', None)\n",
    "            # data.append({premise:'premise',hypothesis:'hypothesis',label:'label'})\n",
    "            data.append((premise,hypothesis,label))\n",
    "\n",
    "    print(f'MedNLI file loaded: {filename}, {len(data)} examples')\n",
    "    return data\n",
    "\n",
    "# tokenizer=AutoTokenizer.from_pretrained('bert-base-uncased')\n",
    "def preprocess_function(examples):\n",
    "    pp,hh,_ = zip(*examples)\n",
    "    return tokenizer(pp, hh, truncation=True)"
   ]
  },
  {
   "cell_type": "code",
   "execution_count": 39,
   "metadata": {},
   "outputs": [
    {
     "output_type": "stream",
     "name": "stdout",
     "text": [
      "MedNLI file loaded: ../data/mednli/mli_train_v1.jsonl, 11232 examples\nMedNLI file loaded: ../data/mednli/mli_dev_v1.jsonl, 1395 examples\nMedNLI file loaded: ../data/mednli/mli_test_v1.jsonl, 1422 examples\n"
     ]
    }
   ],
   "source": [
    "trn,val,test = load_mednli()"
   ]
  },
  {
   "cell_type": "code",
   "execution_count": 40,
   "metadata": {},
   "outputs": [
    {
     "output_type": "execute_result",
     "data": {
      "text/plain": [
       "{'input_ids': [[101, 13625, 2020, 3862, 2005, 13675, 1015, 1012, 1021, 1006, 26163, 1014, 1012, 1019, 2566, 2214, 2636, 1007, 1998, 18749, 12259, 1016, 1012, 1018, 1012, 102, 5776, 2038, 8319, 13675, 102], [101, 13625, 2020, 3862, 2005, 13675, 1015, 1012, 1021, 1006, 26163, 1014, 1012, 1019, 2566, 2214, 2636, 1007, 1998, 18749, 12259, 1016, 1012, 1018, 1012, 102, 5776, 2038, 3671, 13675, 102], [101, 13625, 2020, 3862, 2005, 13675, 1015, 1012, 1021, 1006, 26163, 1014, 1012, 1019, 2566, 2214, 2636, 1007, 1998, 18749, 12259, 1016, 1012, 1018, 1012, 102, 5776, 2038, 8319, 21122, 102], [101, 6396, 9153, 21693, 2271, 1998, 1056, 12414, 2075, 1997, 1054, 2849, 2001, 3264, 1012, 102, 1996, 5776, 2018, 19470, 11265, 10976, 11360, 1012, 102], [101, 6396, 9153, 21693, 2271, 1998, 1056, 12414, 2075, 1997, 1054, 2849, 2001, 3264, 1012, 102, 1996, 5776, 2038, 1037, 3671, 11265, 10976, 11360, 1012, 102]], 'token_type_ids': [[0, 0, 0, 0, 0, 0, 0, 0, 0, 0, 0, 0, 0, 0, 0, 0, 0, 0, 0, 0, 0, 0, 0, 0, 0, 0, 1, 1, 1, 1, 1], [0, 0, 0, 0, 0, 0, 0, 0, 0, 0, 0, 0, 0, 0, 0, 0, 0, 0, 0, 0, 0, 0, 0, 0, 0, 0, 1, 1, 1, 1, 1], [0, 0, 0, 0, 0, 0, 0, 0, 0, 0, 0, 0, 0, 0, 0, 0, 0, 0, 0, 0, 0, 0, 0, 0, 0, 0, 1, 1, 1, 1, 1], [0, 0, 0, 0, 0, 0, 0, 0, 0, 0, 0, 0, 0, 0, 0, 0, 1, 1, 1, 1, 1, 1, 1, 1, 1], [0, 0, 0, 0, 0, 0, 0, 0, 0, 0, 0, 0, 0, 0, 0, 0, 1, 1, 1, 1, 1, 1, 1, 1, 1, 1]], 'attention_mask': [[1, 1, 1, 1, 1, 1, 1, 1, 1, 1, 1, 1, 1, 1, 1, 1, 1, 1, 1, 1, 1, 1, 1, 1, 1, 1, 1, 1, 1, 1, 1], [1, 1, 1, 1, 1, 1, 1, 1, 1, 1, 1, 1, 1, 1, 1, 1, 1, 1, 1, 1, 1, 1, 1, 1, 1, 1, 1, 1, 1, 1, 1], [1, 1, 1, 1, 1, 1, 1, 1, 1, 1, 1, 1, 1, 1, 1, 1, 1, 1, 1, 1, 1, 1, 1, 1, 1, 1, 1, 1, 1, 1, 1], [1, 1, 1, 1, 1, 1, 1, 1, 1, 1, 1, 1, 1, 1, 1, 1, 1, 1, 1, 1, 1, 1, 1, 1, 1], [1, 1, 1, 1, 1, 1, 1, 1, 1, 1, 1, 1, 1, 1, 1, 1, 1, 1, 1, 1, 1, 1, 1, 1, 1, 1]]}"
      ]
     },
     "metadata": {},
     "execution_count": 40
    }
   ],
   "source": [
    "preprocess_function(trn[:5])"
   ]
  },
  {
   "cell_type": "code",
   "execution_count": null,
   "metadata": {},
   "outputs": [],
   "source": []
  }
 ]
}