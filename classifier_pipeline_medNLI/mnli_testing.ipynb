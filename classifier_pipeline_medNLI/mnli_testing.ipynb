{
 "metadata": {
  "language_info": {
   "codemirror_mode": {
    "name": "ipython",
    "version": 3
   },
   "file_extension": ".py",
   "mimetype": "text/x-python",
   "name": "python",
   "nbconvert_exporter": "python",
   "pygments_lexer": "ipython3",
   "version": "3.7.6-final"
  },
  "orig_nbformat": 2,
  "kernelspec": {
   "name": "python3",
   "display_name": "Python 3"
  }
 },
 "nbformat": 4,
 "nbformat_minor": 2,
 "cells": [
  {
   "cell_type": "code",
   "execution_count": 120,
   "metadata": {},
   "outputs": [],
   "source": [
    "\n",
    "import json\n",
    "import csv\n",
    "import torch\n",
    "from torch.utils.data import Dataset,DataLoader\n",
    "\n",
    "from loguru import logger\n",
    "import pytorch_lightning as pl\n",
    "\n",
    "from torchnlp.utils import collate_tensors, lengths_to_mask\n",
    "\n",
    "from transformers import AutoTokenizer\n",
    "\n",
    "\n",
    "\n",
    "def load_mednli(datadir='../data/mednli/'):\n",
    "    filenames = [\n",
    "        'mli_train_v1.jsonl',\n",
    "        'mli_dev_v1.jsonl',\n",
    "        'mli_test_v1.jsonl',\n",
    "    ]\n",
    "\n",
    "    filenames = [datadir+f  for f in filenames]\n",
    "\n",
    "    mednli_train, mednli_dev, mednli_test = [read_mednli(f) for f in filenames]\n",
    "\n",
    "    return mednli_train, mednli_dev, mednli_test\n",
    "\n",
    "\n",
    "def read_mednli(filename) -> list:\n",
    "    data = []\n",
    "\n",
    "    with open(filename, 'r') as f:\n",
    "        for line in f:\n",
    "            example = json.loads(line)\n",
    "\n",
    "            premise = (example['sentence1'])\n",
    "            hypothesis = (example['sentence2'])\n",
    "            label = example.get('gold_label', None)\n",
    "            data.append((premise,hypothesis,label))\n",
    "\n",
    "    print(f'MedNLI file loaded: {filename}, {len(data)} examples')\n",
    "    return data\n"
   ]
  },
  {
   "cell_type": "code",
   "execution_count": null,
   "metadata": {},
   "outputs": [],
   "source": []
  },
  {
   "cell_type": "code",
   "execution_count": 115,
   "metadata": {},
   "outputs": [
    {
     "output_type": "stream",
     "name": "stdout",
     "text": [
      "MedNLI file loaded: ../data/mednli/mli_train_v1.jsonl, 11232 examples\n",
      "MedNLI file loaded: ../data/mednli/mli_dev_v1.jsonl, 1395 examples\n",
      "MedNLI file loaded: ../data/mednli/mli_test_v1.jsonl, 1422 examples\n",
      "\n",
      "Downloading: 100%|██████████| 442/442 [00:00<00:00, 205kB/s]\n",
      "2020-11-27 10:32:37.008 | INFO     | __main__:setup:76 - MedNLI JSONs loaded...\n",
      "2020-11-27 10:32:37.010 | WARNING  | __main__:test_dataloader:93 - Loading testing data...\n"
     ]
    },
    {
     "output_type": "execute_result",
     "data": {
      "text/plain": [
       "<torch.utils.data.dataloader.DataLoader at 0x7fdbf4d1d090>"
      ]
     },
     "metadata": {},
     "execution_count": 115
    }
   ],
   "source": [
    "dm = MedNLIDataModule(None)\n",
    "dm.setup()\n",
    "test_dl = dm.test_dataloader()\n",
    "test_dl"
   ]
  },
  {
   "cell_type": "code",
   "execution_count": 116,
   "metadata": {},
   "outputs": [],
   "source": [
    "batch = next(iter(test_dl))\n",
    "input, target = batch\n"
   ]
  },
  {
   "cell_type": "code",
   "execution_count": 119,
   "metadata": {
    "tags": []
   },
   "outputs": [
    {
     "output_type": "stream",
     "name": "stderr",
     "text": [
      "Some weights of the model checkpoint at distilbert-base-uncased were not used when initializing DistilBertForSequenceClassification: ['vocab_transform.weight', 'vocab_transform.bias', 'vocab_layer_norm.weight', 'vocab_layer_norm.bias', 'vocab_projector.weight', 'vocab_projector.bias']\n",
      "- This IS expected if you are initializing DistilBertForSequenceClassification from the checkpoint of a model trained on another task or with another architecture (e.g. initializing a BertForSequenceClassification model from a BertForPreTraining model).\n",
      "- This IS NOT expected if you are initializing DistilBertForSequenceClassification from the checkpoint of a model that you expect to be exactly identical (initializing a BertForSequenceClassification model from a BertForSequenceClassification model).\n",
      "Some weights of DistilBertForSequenceClassification were not initialized from the model checkpoint at distilbert-base-uncased and are newly initialized: ['pre_classifier.weight', 'pre_classifier.bias', 'classifier.weight', 'classifier.bias']\n",
      "You should probably TRAIN this model on a down-stream task to be able to use it for predictions and inference.\n"
     ]
    }
   ],
   "source": [
    "from transformers import AutoModelForSequenceClassification, TrainingArguments, Trainer\n",
    "model = AutoModelForSequenceClassification.from_pretrained('distilbert-base-uncased')\n"
   ]
  },
  {
   "cell_type": "code",
   "execution_count": null,
   "metadata": {},
   "outputs": [],
   "source": []
  },
  {
   "cell_type": "code",
   "execution_count": 45,
   "metadata": {},
   "outputs": [
    {
     "output_type": "error",
     "ename": "AttributeError",
     "evalue": "'list' object has no attribute 'map'",
     "traceback": [
      "\u001b[0;31m---------------------------------------------------------------------------\u001b[0m",
      "\u001b[0;31mAttributeError\u001b[0m                            Traceback (most recent call last)",
      "\u001b[0;32m<ipython-input-45-a738d73f4331>\u001b[0m in \u001b[0;36m<module>\u001b[0;34m\u001b[0m\n\u001b[0;32m----> 1\u001b[0;31m \u001b[0mencoded_dataset\u001b[0m \u001b[0;34m=\u001b[0m \u001b[0mtest\u001b[0m\u001b[0;34m.\u001b[0m\u001b[0mmap\u001b[0m\u001b[0;34m(\u001b[0m\u001b[0mpreprocess_function\u001b[0m\u001b[0;34m,\u001b[0m \u001b[0mbatched\u001b[0m\u001b[0;34m=\u001b[0m\u001b[0;32mTrue\u001b[0m\u001b[0;34m)\u001b[0m\u001b[0;34m\u001b[0m\u001b[0;34m\u001b[0m\u001b[0m\n\u001b[0m\u001b[1;32m      2\u001b[0m \u001b[0mencoded_dataset\u001b[0m\u001b[0;34m\u001b[0m\u001b[0;34m\u001b[0m\u001b[0m\n",
      "\u001b[0;31mAttributeError\u001b[0m: 'list' object has no attribute 'map'"
     ]
    }
   ],
   "source": [
    "encoded_dataset = test.map(preprocess_function, batched=True)\n",
    "encoded_dataset"
   ]
  },
  {
   "cell_type": "code",
   "execution_count": null,
   "metadata": {},
   "outputs": [],
   "source": []
  }
 ]
}