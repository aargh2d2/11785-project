{
 "metadata": {
  "language_info": {
   "codemirror_mode": {
    "name": "ipython",
    "version": 3
   },
   "file_extension": ".py",
   "mimetype": "text/x-python",
   "name": "python",
   "nbconvert_exporter": "python",
   "pygments_lexer": "ipython3",
   "version": "3.7.6-final"
  },
  "orig_nbformat": 2,
  "kernelspec": {
   "name": "Python 3.7.6 64-bit ('base': conda)",
   "display_name": "Python 3.7.6 64-bit ('base': conda)",
   "metadata": {
    "interpreter": {
     "hash": "91edd6a104d1025945ba3544a50f130edccffd432672f119b1530b3e465963de"
    }
   }
  }
 },
 "nbformat": 4,
 "nbformat_minor": 2,
 "cells": [
  {
   "cell_type": "code",
   "execution_count": 19,
   "metadata": {},
   "outputs": [
    {
     "output_type": "execute_result",
     "data": {
      "text/plain": [
       "                                                       0\n",
       "0      Tuberculous pneumonia [any form], tubercle bac...\n",
       "1                  Tuberculous pneumothorax, unspecified\n",
       "2      Tuberculous pneumothorax, bacteriological or h...\n",
       "3      Tuberculous pneumothorax, bacteriological or h...\n",
       "4      Tuberculous pneumothorax, tubercle bacilli fou...\n",
       "...                                                  ...\n",
       "14562  Special screening examination for unspecified ...\n",
       "14563                  Screening examination for cholera\n",
       "14564   Screening examination for pulmonary tuberculosis\n",
       "14565  Screening examination for leprosy (Hansen's di...\n",
       "14566               Screening examination for diphtheria\n",
       "\n",
       "[14567 rows x 1 columns]"
      ],
      "text/html": "<div>\n<style scoped>\n    .dataframe tbody tr th:only-of-type {\n        vertical-align: middle;\n    }\n\n    .dataframe tbody tr th {\n        vertical-align: top;\n    }\n\n    .dataframe thead th {\n        text-align: right;\n    }\n</style>\n<table border=\"1\" class=\"dataframe\">\n  <thead>\n    <tr style=\"text-align: right;\">\n      <th></th>\n      <th>0</th>\n    </tr>\n  </thead>\n  <tbody>\n    <tr>\n      <th>0</th>\n      <td>Tuberculous pneumonia [any form], tubercle bac...</td>\n    </tr>\n    <tr>\n      <th>1</th>\n      <td>Tuberculous pneumothorax, unspecified</td>\n    </tr>\n    <tr>\n      <th>2</th>\n      <td>Tuberculous pneumothorax, bacteriological or h...</td>\n    </tr>\n    <tr>\n      <th>3</th>\n      <td>Tuberculous pneumothorax, bacteriological or h...</td>\n    </tr>\n    <tr>\n      <th>4</th>\n      <td>Tuberculous pneumothorax, tubercle bacilli fou...</td>\n    </tr>\n    <tr>\n      <th>...</th>\n      <td>...</td>\n    </tr>\n    <tr>\n      <th>14562</th>\n      <td>Special screening examination for unspecified ...</td>\n    </tr>\n    <tr>\n      <th>14563</th>\n      <td>Screening examination for cholera</td>\n    </tr>\n    <tr>\n      <th>14564</th>\n      <td>Screening examination for pulmonary tuberculosis</td>\n    </tr>\n    <tr>\n      <th>14565</th>\n      <td>Screening examination for leprosy (Hansen's di...</td>\n    </tr>\n    <tr>\n      <th>14566</th>\n      <td>Screening examination for diphtheria</td>\n    </tr>\n  </tbody>\n</table>\n<p>14567 rows × 1 columns</p>\n</div>"
     },
     "metadata": {},
     "execution_count": 19
    }
   ],
   "source": [
    "import pandas as pd\n",
    "\n",
    "labelmap=pd.read_csv('../data/intermediary-data/xbert_inputs/label_map.txt',sep='\\t',header=None)\n",
    "labelmap"
   ]
  },
  {
   "cell_type": "code",
   "execution_count": null,
   "metadata": {},
   "outputs": [],
   "source": []
  },
  {
   "cell_type": "code",
   "execution_count": 38,
   "metadata": {},
   "outputs": [
    {
     "output_type": "execute_result",
     "data": {
      "text/plain": [
       "                                                       TEXT  \\\n",
       "HADM_ID                                                       \n",
       "100007.0  : : : Sex: F Service: SURGERY Allergies: Penic...   \n",
       "100011.0  : : : Sex: M Service: SURGERY Allergies: Patie...   \n",
       "100019.0  : : : Sex: M Service: Cardiothoracic Surgery P...   \n",
       "100021.0  : : : Sex: M Service: MEDICINE Allergies: Pati...   \n",
       "100025.0  : : : Sex: M Service: NEONATOLOGY HISTORY: Bab...   \n",
       "...                                                     ...   \n",
       "199981.0  : : Service: MEDICINE Allergies: Patient recor...   \n",
       "199986.0  : : : Sex: F Service: MEDICINE Allergies: No D...   \n",
       "199988.0  : : : Sex: M Service: COLORECTAL SURGERY SERVI...   \n",
       "199993.0  : : : Sex: M Service: CARDIOTHOR CHIEF COMPLAI...   \n",
       "199995.0  : : : Sex: M Service: HISTORY OF PRESENT ILLNE...   \n",
       "\n",
       "                                     CATEGORY  \\\n",
       "HADM_ID                                         \n",
       "100007.0                    Discharge summary   \n",
       "100011.0                    Discharge summary   \n",
       "100019.0                    Discharge summary   \n",
       "100021.0                    Discharge summary   \n",
       "100025.0                    Discharge summary   \n",
       "...                                       ...   \n",
       "199981.0                    Discharge summary   \n",
       "199986.0                    Discharge summary   \n",
       "199988.0  Discharge summary Discharge summary   \n",
       "199993.0                    Discharge summary   \n",
       "199995.0                    Discharge summary   \n",
       "\n",
       "                                                  ICD9_CODE  \n",
       "HADM_ID                                                      \n",
       "100007.0                           56081,5570,9973,486,4019  \n",
       "100011.0  85206,82111,86403,48242,8600,2851,86121,80703,...  \n",
       "100019.0                                4241,7464,4412,7850  \n",
       "100021.0  E8788,E8497,4019,04104,0413,5728,V1581,2819,78...  \n",
       "100025.0         V3000,7756,99811,7708,7661,V502,E8788,V053  \n",
       "...                                                     ...  \n",
       "199981.0  99672,5849,5859,49121,5990,4280,42823,41401,24...  \n",
       "199986.0               41041,41401,4019,2724,2859,4588,3659  \n",
       "199988.0     1541,99859,9974,5672,0389,5609,7070,E8792,2720  \n",
       "199993.0    41031,42821,42731,4271,5180,4240,2760,5119,5184  \n",
       "199995.0  4210,7464,42971,30401,4412,44284,V1259,04111,3...  \n",
       "\n",
       "[15926 rows x 3 columns]"
      ],
      "text/html": "<div>\n<style scoped>\n    .dataframe tbody tr th:only-of-type {\n        vertical-align: middle;\n    }\n\n    .dataframe tbody tr th {\n        vertical-align: top;\n    }\n\n    .dataframe thead th {\n        text-align: right;\n    }\n</style>\n<table border=\"1\" class=\"dataframe\">\n  <thead>\n    <tr style=\"text-align: right;\">\n      <th></th>\n      <th>TEXT</th>\n      <th>CATEGORY</th>\n      <th>ICD9_CODE</th>\n    </tr>\n    <tr>\n      <th>HADM_ID</th>\n      <th></th>\n      <th></th>\n      <th></th>\n    </tr>\n  </thead>\n  <tbody>\n    <tr>\n      <th>100007.0</th>\n      <td>: : : Sex: F Service: SURGERY Allergies: Penic...</td>\n      <td>Discharge summary</td>\n      <td>56081,5570,9973,486,4019</td>\n    </tr>\n    <tr>\n      <th>100011.0</th>\n      <td>: : : Sex: M Service: SURGERY Allergies: Patie...</td>\n      <td>Discharge summary</td>\n      <td>85206,82111,86403,48242,8600,2851,86121,80703,...</td>\n    </tr>\n    <tr>\n      <th>100019.0</th>\n      <td>: : : Sex: M Service: Cardiothoracic Surgery P...</td>\n      <td>Discharge summary</td>\n      <td>4241,7464,4412,7850</td>\n    </tr>\n    <tr>\n      <th>100021.0</th>\n      <td>: : : Sex: M Service: MEDICINE Allergies: Pati...</td>\n      <td>Discharge summary</td>\n      <td>E8788,E8497,4019,04104,0413,5728,V1581,2819,78...</td>\n    </tr>\n    <tr>\n      <th>100025.0</th>\n      <td>: : : Sex: M Service: NEONATOLOGY HISTORY: Bab...</td>\n      <td>Discharge summary</td>\n      <td>V3000,7756,99811,7708,7661,V502,E8788,V053</td>\n    </tr>\n    <tr>\n      <th>...</th>\n      <td>...</td>\n      <td>...</td>\n      <td>...</td>\n    </tr>\n    <tr>\n      <th>199981.0</th>\n      <td>: : Service: MEDICINE Allergies: Patient recor...</td>\n      <td>Discharge summary</td>\n      <td>99672,5849,5859,49121,5990,4280,42823,41401,24...</td>\n    </tr>\n    <tr>\n      <th>199986.0</th>\n      <td>: : : Sex: F Service: MEDICINE Allergies: No D...</td>\n      <td>Discharge summary</td>\n      <td>41041,41401,4019,2724,2859,4588,3659</td>\n    </tr>\n    <tr>\n      <th>199988.0</th>\n      <td>: : : Sex: M Service: COLORECTAL SURGERY SERVI...</td>\n      <td>Discharge summary Discharge summary</td>\n      <td>1541,99859,9974,5672,0389,5609,7070,E8792,2720</td>\n    </tr>\n    <tr>\n      <th>199993.0</th>\n      <td>: : : Sex: M Service: CARDIOTHOR CHIEF COMPLAI...</td>\n      <td>Discharge summary</td>\n      <td>41031,42821,42731,4271,5180,4240,2760,5119,5184</td>\n    </tr>\n    <tr>\n      <th>199995.0</th>\n      <td>: : : Sex: M Service: HISTORY OF PRESENT ILLNE...</td>\n      <td>Discharge summary</td>\n      <td>4210,7464,42971,30401,4412,44284,V1259,04111,3...</td>\n    </tr>\n  </tbody>\n</table>\n<p>15926 rows × 3 columns</p>\n</div>"
     },
     "metadata": {},
     "execution_count": 38
    }
   ],
   "source": [
    "train_data = pd.read_pickle('/Users/simon/GitHub/11785-project/data/intermediary-data/notes2diagnosis-icd-train_df')\n",
    "test_data = pd.read_pickle('/Users/simon/GitHub/11785-project/data/intermediary-data/notes2diagnosis-icd-test_df')"
   ]
  },
  {
   "cell_type": "code",
   "execution_count": null,
   "metadata": {},
   "outputs": [],
   "source": [
    "pd.D"
   ]
  },
  {
   "cell_type": "code",
   "execution_count": null,
   "metadata": {},
   "outputs": [],
   "source": []
  },
  {
   "cell_type": "code",
   "execution_count": 23,
   "metadata": {},
   "outputs": [
    {
     "output_type": "execute_result",
     "data": {
      "text/plain": [
       "       0      1      2      3      4      5      6      7      8      9      \\\n",
       "0          0      0      0      0      0      0      0      0      0      0   \n",
       "1          0      0      0      0      0      0      0      0      0      0   \n",
       "2          0      0      0      0      0      0      0      0      0      0   \n",
       "3          0      0      0      0      0      0      0      0      0      0   \n",
       "4          0      0      0      0      0      0      0      0      0      0   \n",
       "...      ...    ...    ...    ...    ...    ...    ...    ...    ...    ...   \n",
       "30910      0      0      0      0      0      0      0      0      0      0   \n",
       "30911      0      0      0      0      0      0      0      0      0      0   \n",
       "30912      0      0      0      0      0      0      0      0      0      0   \n",
       "30913      0      0      0      0      0      0      0      0      0      0   \n",
       "30914      0      0      0      0      0      0      0      0      0      0   \n",
       "\n",
       "       ...  14557  14558  14559  14560  14561  14562  14563  14564  14565  \\\n",
       "0      ...      0      0      0      0      0      0      0      0      0   \n",
       "1      ...      0      0      0      0      0      0      0      0      0   \n",
       "2      ...      0      0      0      0      0      0      0      0      0   \n",
       "3      ...      0      0      0      0      0      0      0      0      0   \n",
       "4      ...      0      0      0      0      0      0      0      0      0   \n",
       "...    ...    ...    ...    ...    ...    ...    ...    ...    ...    ...   \n",
       "30910  ...      0      0      0      0      0      0      0      0      0   \n",
       "30911  ...      0      0      0      0      0      0      0      0      0   \n",
       "30912  ...      0      0      0      0      0      0      0      0      0   \n",
       "30913  ...      0      0      0      0      0      0      0      0      0   \n",
       "30914  ...      0      0      0      0      0      0      0      0      0   \n",
       "\n",
       "       14566  \n",
       "0          0  \n",
       "1          0  \n",
       "2          0  \n",
       "3          0  \n",
       "4          0  \n",
       "...      ...  \n",
       "30910      0  \n",
       "30911      0  \n",
       "30912      0  \n",
       "30913      0  \n",
       "30914      0  \n",
       "\n",
       "[30915 rows x 14567 columns]"
      ],
      "text/html": "<div>\n<style scoped>\n    .dataframe tbody tr th:only-of-type {\n        vertical-align: middle;\n    }\n\n    .dataframe tbody tr th {\n        vertical-align: top;\n    }\n\n    .dataframe thead th {\n        text-align: right;\n    }\n</style>\n<table border=\"1\" class=\"dataframe\">\n  <thead>\n    <tr style=\"text-align: right;\">\n      <th></th>\n      <th>0</th>\n      <th>1</th>\n      <th>2</th>\n      <th>3</th>\n      <th>4</th>\n      <th>5</th>\n      <th>6</th>\n      <th>7</th>\n      <th>8</th>\n      <th>9</th>\n      <th>...</th>\n      <th>14557</th>\n      <th>14558</th>\n      <th>14559</th>\n      <th>14560</th>\n      <th>14561</th>\n      <th>14562</th>\n      <th>14563</th>\n      <th>14564</th>\n      <th>14565</th>\n      <th>14566</th>\n    </tr>\n  </thead>\n  <tbody>\n    <tr>\n      <th>0</th>\n      <td>0</td>\n      <td>0</td>\n      <td>0</td>\n      <td>0</td>\n      <td>0</td>\n      <td>0</td>\n      <td>0</td>\n      <td>0</td>\n      <td>0</td>\n      <td>0</td>\n      <td>...</td>\n      <td>0</td>\n      <td>0</td>\n      <td>0</td>\n      <td>0</td>\n      <td>0</td>\n      <td>0</td>\n      <td>0</td>\n      <td>0</td>\n      <td>0</td>\n      <td>0</td>\n    </tr>\n    <tr>\n      <th>1</th>\n      <td>0</td>\n      <td>0</td>\n      <td>0</td>\n      <td>0</td>\n      <td>0</td>\n      <td>0</td>\n      <td>0</td>\n      <td>0</td>\n      <td>0</td>\n      <td>0</td>\n      <td>...</td>\n      <td>0</td>\n      <td>0</td>\n      <td>0</td>\n      <td>0</td>\n      <td>0</td>\n      <td>0</td>\n      <td>0</td>\n      <td>0</td>\n      <td>0</td>\n      <td>0</td>\n    </tr>\n    <tr>\n      <th>2</th>\n      <td>0</td>\n      <td>0</td>\n      <td>0</td>\n      <td>0</td>\n      <td>0</td>\n      <td>0</td>\n      <td>0</td>\n      <td>0</td>\n      <td>0</td>\n      <td>0</td>\n      <td>...</td>\n      <td>0</td>\n      <td>0</td>\n      <td>0</td>\n      <td>0</td>\n      <td>0</td>\n      <td>0</td>\n      <td>0</td>\n      <td>0</td>\n      <td>0</td>\n      <td>0</td>\n    </tr>\n    <tr>\n      <th>3</th>\n      <td>0</td>\n      <td>0</td>\n      <td>0</td>\n      <td>0</td>\n      <td>0</td>\n      <td>0</td>\n      <td>0</td>\n      <td>0</td>\n      <td>0</td>\n      <td>0</td>\n      <td>...</td>\n      <td>0</td>\n      <td>0</td>\n      <td>0</td>\n      <td>0</td>\n      <td>0</td>\n      <td>0</td>\n      <td>0</td>\n      <td>0</td>\n      <td>0</td>\n      <td>0</td>\n    </tr>\n    <tr>\n      <th>4</th>\n      <td>0</td>\n      <td>0</td>\n      <td>0</td>\n      <td>0</td>\n      <td>0</td>\n      <td>0</td>\n      <td>0</td>\n      <td>0</td>\n      <td>0</td>\n      <td>0</td>\n      <td>...</td>\n      <td>0</td>\n      <td>0</td>\n      <td>0</td>\n      <td>0</td>\n      <td>0</td>\n      <td>0</td>\n      <td>0</td>\n      <td>0</td>\n      <td>0</td>\n      <td>0</td>\n    </tr>\n    <tr>\n      <th>...</th>\n      <td>...</td>\n      <td>...</td>\n      <td>...</td>\n      <td>...</td>\n      <td>...</td>\n      <td>...</td>\n      <td>...</td>\n      <td>...</td>\n      <td>...</td>\n      <td>...</td>\n      <td>...</td>\n      <td>...</td>\n      <td>...</td>\n      <td>...</td>\n      <td>...</td>\n      <td>...</td>\n      <td>...</td>\n      <td>...</td>\n      <td>...</td>\n      <td>...</td>\n      <td>...</td>\n    </tr>\n    <tr>\n      <th>30910</th>\n      <td>0</td>\n      <td>0</td>\n      <td>0</td>\n      <td>0</td>\n      <td>0</td>\n      <td>0</td>\n      <td>0</td>\n      <td>0</td>\n      <td>0</td>\n      <td>0</td>\n      <td>...</td>\n      <td>0</td>\n      <td>0</td>\n      <td>0</td>\n      <td>0</td>\n      <td>0</td>\n      <td>0</td>\n      <td>0</td>\n      <td>0</td>\n      <td>0</td>\n      <td>0</td>\n    </tr>\n    <tr>\n      <th>30911</th>\n      <td>0</td>\n      <td>0</td>\n      <td>0</td>\n      <td>0</td>\n      <td>0</td>\n      <td>0</td>\n      <td>0</td>\n      <td>0</td>\n      <td>0</td>\n      <td>0</td>\n      <td>...</td>\n      <td>0</td>\n      <td>0</td>\n      <td>0</td>\n      <td>0</td>\n      <td>0</td>\n      <td>0</td>\n      <td>0</td>\n      <td>0</td>\n      <td>0</td>\n      <td>0</td>\n    </tr>\n    <tr>\n      <th>30912</th>\n      <td>0</td>\n      <td>0</td>\n      <td>0</td>\n      <td>0</td>\n      <td>0</td>\n      <td>0</td>\n      <td>0</td>\n      <td>0</td>\n      <td>0</td>\n      <td>0</td>\n      <td>...</td>\n      <td>0</td>\n      <td>0</td>\n      <td>0</td>\n      <td>0</td>\n      <td>0</td>\n      <td>0</td>\n      <td>0</td>\n      <td>0</td>\n      <td>0</td>\n      <td>0</td>\n    </tr>\n    <tr>\n      <th>30913</th>\n      <td>0</td>\n      <td>0</td>\n      <td>0</td>\n      <td>0</td>\n      <td>0</td>\n      <td>0</td>\n      <td>0</td>\n      <td>0</td>\n      <td>0</td>\n      <td>0</td>\n      <td>...</td>\n      <td>0</td>\n      <td>0</td>\n      <td>0</td>\n      <td>0</td>\n      <td>0</td>\n      <td>0</td>\n      <td>0</td>\n      <td>0</td>\n      <td>0</td>\n      <td>0</td>\n    </tr>\n    <tr>\n      <th>30914</th>\n      <td>0</td>\n      <td>0</td>\n      <td>0</td>\n      <td>0</td>\n      <td>0</td>\n      <td>0</td>\n      <td>0</td>\n      <td>0</td>\n      <td>0</td>\n      <td>0</td>\n      <td>...</td>\n      <td>0</td>\n      <td>0</td>\n      <td>0</td>\n      <td>0</td>\n      <td>0</td>\n      <td>0</td>\n      <td>0</td>\n      <td>0</td>\n      <td>0</td>\n      <td>0</td>\n    </tr>\n  </tbody>\n</table>\n<p>30915 rows × 14567 columns</p>\n</div>"
     },
     "metadata": {},
     "execution_count": 23
    }
   ],
   "source": [
    "instance2label=pd.DataFrame(scipy.sparse.load_npz('../data/intermediary-data/xbert_inputs/Y.trn.npz').todense())\n",
    "instance2label"
   ]
  },
  {
   "cell_type": "code",
   "execution_count": null,
   "metadata": {},
   "outputs": [],
   "source": [
    "instance2label"
   ]
  },
  {
   "cell_type": "code",
   "execution_count": 31,
   "metadata": {},
   "outputs": [
    {
     "output_type": "execute_result",
     "data": {
      "text/plain": [
       "                                                       0\n",
       "0      : : : Sex: F Service: MEDICINE Allergies: Sulf...\n",
       "1      : : : Sex: F Service: CARDIOTHORACIC Allergies...\n",
       "2      : : : Sex: M Service: NBB HISTORY OF PRESENT I...\n",
       "3      : : : Sex: F Service: NEONATOLOGY HISTORY: wee...\n",
       "4      : : Service: MEDICINE Allergies: Patient recor...\n",
       "...                                                  ...\n",
       "30910  : : : Sex: M Service: MEDICINE Allergies: Peni...\n",
       "30911  : : : Sex: M Service: Neonatology HISTORY: . i...\n",
       "30912  : : : Sex: M Service: SURGERY Allergies: Demer...\n",
       "30913  : : Service: GU Allergies: Amoxicillin / Aldom...\n",
       "30914  : : : Sex: M Service: MEDICINE Allergies: Dila...\n",
       "\n",
       "[30915 rows x 1 columns]"
      ],
      "text/html": "<div>\n<style scoped>\n    .dataframe tbody tr th:only-of-type {\n        vertical-align: middle;\n    }\n\n    .dataframe tbody tr th {\n        vertical-align: top;\n    }\n\n    .dataframe thead th {\n        text-align: right;\n    }\n</style>\n<table border=\"1\" class=\"dataframe\">\n  <thead>\n    <tr style=\"text-align: right;\">\n      <th></th>\n      <th>0</th>\n    </tr>\n  </thead>\n  <tbody>\n    <tr>\n      <th>0</th>\n      <td>: : : Sex: F Service: MEDICINE Allergies: Sulf...</td>\n    </tr>\n    <tr>\n      <th>1</th>\n      <td>: : : Sex: F Service: CARDIOTHORACIC Allergies...</td>\n    </tr>\n    <tr>\n      <th>2</th>\n      <td>: : : Sex: M Service: NBB HISTORY OF PRESENT I...</td>\n    </tr>\n    <tr>\n      <th>3</th>\n      <td>: : : Sex: F Service: NEONATOLOGY HISTORY: wee...</td>\n    </tr>\n    <tr>\n      <th>4</th>\n      <td>: : Service: MEDICINE Allergies: Patient recor...</td>\n    </tr>\n    <tr>\n      <th>...</th>\n      <td>...</td>\n    </tr>\n    <tr>\n      <th>30910</th>\n      <td>: : : Sex: M Service: MEDICINE Allergies: Peni...</td>\n    </tr>\n    <tr>\n      <th>30911</th>\n      <td>: : : Sex: M Service: Neonatology HISTORY: . i...</td>\n    </tr>\n    <tr>\n      <th>30912</th>\n      <td>: : : Sex: M Service: SURGERY Allergies: Demer...</td>\n    </tr>\n    <tr>\n      <th>30913</th>\n      <td>: : Service: GU Allergies: Amoxicillin / Aldom...</td>\n    </tr>\n    <tr>\n      <th>30914</th>\n      <td>: : : Sex: M Service: MEDICINE Allergies: Dila...</td>\n    </tr>\n  </tbody>\n</table>\n<p>30915 rows × 1 columns</p>\n</div>"
     },
     "metadata": {},
     "execution_count": 31
    }
   ],
   "source": [
    "trn_texts = pd.read_csv('/Users/simon/GitHub/11785-project/data/intermediary-data/xbert_inputs/train_raw_texts.txt',header=None,sep='\\t')\n",
    "trn_texts"
   ]
  },
  {
   "cell_type": "code",
   "execution_count": null,
   "metadata": {},
   "outputs": [],
   "source": [
    "y = instance2label"
   ]
  },
  {
   "cell_type": "code",
   "execution_count": null,
   "metadata": {},
   "outputs": [],
   "source": []
  }
 ]
}