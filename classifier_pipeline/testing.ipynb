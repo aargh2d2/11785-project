{
 "metadata": {
  "language_info": {
   "codemirror_mode": {
    "name": "ipython",
    "version": 3
   },
   "file_extension": ".py",
   "mimetype": "text/x-python",
   "name": "python",
   "nbconvert_exporter": "python",
   "pygments_lexer": "ipython3",
   "version": "3.7.6-final"
  },
  "orig_nbformat": 2,
  "kernelspec": {
   "name": "Python 3.7.6 64-bit ('base': conda)",
   "display_name": "Python 3.7.6 64-bit ('base': conda)",
   "metadata": {
    "interpreter": {
     "hash": "91edd6a104d1025945ba3544a50f130edccffd432672f119b1530b3e465963de"
    }
   }
  }
 },
 "nbformat": 4,
 "nbformat_minor": 2,
 "cells": [
  {
   "cell_type": "code",
   "execution_count": 3,
   "metadata": {},
   "outputs": [
    {
     "output_type": "execute_result",
     "data": {
      "text/plain": [
       "{0: 'a', 1: 'd', 2: 'e', 3: 'f'}"
      ]
     },
     "metadata": {},
     "execution_count": 3
    }
   ],
   "source": [
    "import pandas as pd\n",
    "\n",
    "codes= ['a','d','e','f']\n",
    "\n",
    "dict(zip(range(0,len(codes)),codes))"
   ]
  },
  {
   "cell_type": "code",
   "execution_count": 5,
   "metadata": {},
   "outputs": [
    {
     "output_type": "error",
     "ename": "ModuleNotFoundError",
     "evalue": "No module named 'format_data_for_training'",
     "traceback": [
      "\u001b[0;31m---------------------------------------------------------------------------\u001b[0m",
      "\u001b[0;31mModuleNotFoundError\u001b[0m                       Traceback (most recent call last)",
      "\u001b[0;32m<ipython-input-5-f9650bff5be0>\u001b[0m in \u001b[0;36m<module>\u001b[0;34m\u001b[0m\n\u001b[1;32m     21\u001b[0m \u001b[0;31m# except ImportError:\u001b[0m\u001b[0;34m\u001b[0m\u001b[0;34m\u001b[0m\u001b[0;34m\u001b[0m\u001b[0m\n\u001b[1;32m     22\u001b[0m \u001b[0;31m#     # when running in a pytest context\u001b[0m\u001b[0;34m\u001b[0m\u001b[0;34m\u001b[0m\u001b[0;34m\u001b[0m\u001b[0m\n\u001b[0;32m---> 23\u001b[0;31m \u001b[0;32mimport\u001b[0m \u001b[0mformat_data_for_training\u001b[0m\u001b[0;34m\u001b[0m\u001b[0;34m\u001b[0m\u001b[0m\n\u001b[0m\u001b[1;32m     24\u001b[0m \u001b[0;34m\u001b[0m\u001b[0m\n\u001b[1;32m     25\u001b[0m \u001b[0;31m# input filepaths.\u001b[0m\u001b[0;34m\u001b[0m\u001b[0;34m\u001b[0m\u001b[0;34m\u001b[0m\u001b[0m\n",
      "\u001b[0;31mModuleNotFoundError\u001b[0m: No module named 'format_data_for_training'"
     ]
    }
   ],
   "source": [
    "from pathlib import Path\n",
    "\n",
    "import typing as t\n",
    "import re\n",
    "import pandas as pd\n",
    "import scipy\n",
    "import yaml\n",
    "import numpy as np\n",
    "from loguru import logger\n",
    "from tqdm import tqdm\n",
    "\n",
    "import scipy.sparse\n",
    "\n",
    "import sys\n",
    "sys.path.append(\".\")\n",
    "# from icd9 import ICD9\n",
    "\n",
    "\n",
    "# try:\n",
    "#     import format_data_for_training #script from auto-icd\n",
    "# except ImportError:\n",
    "#     # when running in a pytest context\n",
    "import format_data_for_training\n",
    "\n",
    "# input filepaths.\n",
    "DIAGNOSIS_CSV_FP = \"./data/mimiciii-14/DIAGNOSES_ICD.csv.gz\"\n",
    "PROCEDURES_CSV_FP = \"./data/mimiciii-14/PROCEDURES_ICD.csv\"\n",
    "ICD9_DIAG_KEY_FP = \"./data/mimiciii-14/D_ICD_DIAGNOSES.csv.gz\"\n",
    "ICD9_PROC_KEY_FP = \"./data/mimiciii-14/D_ICD_PROCEDURES.csv\"\n",
    "\n",
    "# ICD_GEM_FP = \"./data/ICD_general_equivalence_mapping.csv\" #for conversion to ICd10\n",
    "\n",
    "# output filepaths\n",
    "XBERT_LABEL_MAP_FP = './data/intermediary-data/xbert_inputs/label_map.txt'\n",
    "XBERT_TRAIN_RAW_TEXTS_FP = './data/intermediary-data/xbert_inputs/train_raw_texts.txt'\n",
    "XBERT_VAL_RAW_TEXTS_FP = './data/intermediary-data/xbert_inputs/val_raw_texts.txt'\n",
    "XBERT_TEST_RAW_TEXTS_FP = './data/intermediary-data/xbert_inputs/test_raw_texts.txt'\n",
    "\n",
    "XBERT_Y_TRN_FP = './data/intermediary-data/xbert_inputs/Y.trn.npz'\n",
    "XBERT_Y_VAL_FP = './data/intermediary-data/xbert_inputs/Y.val.npz'\n",
    "XBERT_Y_TST_FP = './data/intermediary-data/xbert_inputs/Y.tst.npz'\n",
    "DF_TRAIN_FP ='./data/intermediary-data/df_train.pkl'\n",
    "DF_TEST_FP = './data/intermediary-data/df_test.pkl'\n",
    "\n",
    "\n",
    "def main():\n",
    "    with open('params.yaml', 'r') as f:\n",
    "        params = yaml.safe_load(f.read())\n",
    "    icd_version_specified = str(params['prepare_for_xbert']['icd_version'])\n",
    "    diag_or_proc_param = params['prepare_for_xbert']['diag_or_proc']\n",
    "    assert diag_or_proc_param == 'proc' or diag_or_proc_param == 'diag', 'Must specify either \\'proc\\' or \\'diag\\'.'\n",
    "    note_category_param = params['prepare_for_xbert']['note_category']\n",
    "    icd_seq_num_param = params['prepare_for_xbert']['one_or_all_icds']\n",
    "    subsampling_param = params['prepare_for_xbert']['subsampling']\n",
    "\n",
    "    logger.info(f'Using ICD version {icd_version_specified}...')\n",
    "    assert icd_version_specified == '9' or icd_version_specified == '10', 'Must specify one of ICD9 or ICD10.'\n",
    "    logger.info('Reformatting raw data with subsampling {}', 'enabled' if subsampling_param else 'disabled')\n",
    "\n",
    "    df_train, df_val, df_test = \\\n",
    "        format_data_for_training.construct_datasets(\n",
    "            diag_or_proc_param, note_category_param, subsampling_param)\n",
    "\n",
    "\n",
    "    # X_trn = xbert_prepare_txt_inputs(df_train, 'training')\n",
    "    # X_val = xbert_prepare_txt_inputs(df_val, 'validation')\n",
    "    # X_tst = xbert_prepare_txt_inputs(df_test, 'testing')\n",
    "\n",
    "\n",
    "    icd_labels, desc_labels = xbert_create_label_map(icd_version_specified, diag_or_proc_param)\n",
    "    #need codes, not descriptions right now.\n",
    "\n",
    "    icd_labels.to_csv('data/icd_labels.csv')\n",
    "\n",
    "    data_train = xbert_prepare_Y_maps(\n",
    "        df_train, icd_labels.tolist(), icd_version_specified)\n",
    "\n",
    "    data_val = xbert_prepare_Y_maps(\n",
    "        df_val, icd_labels.tolist(), icd_version_specified)\n",
    "\n",
    "    data_test = xbert_prepare_Y_maps(\n",
    "        df_test, icd_labels.tolist(), icd_version_specified)\n",
    "\n",
    "    logger.info('Created dataframes of hospital admission to assigned ICD codes.')\n",
    "\n",
    "    data_train = data_train.insert(loc=0,column='TEXT',value= df_train['TEXT'])\n",
    "    data_val  = data_val.insert(loc=0,column='TEXT',value= df_val['TEXT'])\n",
    "    data_test = data_test.insert(loc=0,column='TEXT',value= df_test['TEXT'])\n",
    "\n",
    "\n",
    "    logger.info(\n",
    "        'Done preprocessing for multilabel classification. Saving CSV of columns [text, code1,code2,...,codeL].'\n",
    "    )"
   ]
  },
  {
   "cell_type": "code",
   "execution_count": null,
   "metadata": {},
   "outputs": [],
   "source": []
  }
 ]
}