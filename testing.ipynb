{
 "metadata": {
  "language_info": {
   "codemirror_mode": {
    "name": "ipython",
    "version": 3
   },
   "file_extension": ".py",
   "mimetype": "text/x-python",
   "name": "python",
   "nbconvert_exporter": "python",
   "pygments_lexer": "ipython3",
   "version": "3.7.6-final"
  },
  "orig_nbformat": 2,
  "kernelspec": {
   "name": "Python 3.7.6 64-bit ('base': conda)",
   "display_name": "Python 3.7.6 64-bit ('base': conda)",
   "metadata": {
    "interpreter": {
     "hash": "91edd6a104d1025945ba3544a50f130edccffd432672f119b1530b3e465963de"
    }
   }
  }
 },
 "nbformat": 4,
 "nbformat_minor": 2,
 "cells": [
  {
   "cell_type": "code",
   "execution_count": 8,
   "metadata": {},
   "outputs": [
    {
     "output_type": "stream",
     "name": "stdout",
     "text": [
      "Requirement already satisfied: tensorboard in /Users/simon/opt/anaconda3/lib/python3.7/site-packages (2.3.0)\n",
      "Requirement already satisfied: tensorboard-plugin-wit>=1.6.0 in /Users/simon/opt/anaconda3/lib/python3.7/site-packages (from tensorboard) (1.7.0)\n",
      "Requirement already satisfied: numpy>=1.12.0 in /Users/simon/opt/anaconda3/lib/python3.7/site-packages (from tensorboard) (1.18.5)\n",
      "Requirement already satisfied: setuptools>=41.0.0 in /Users/simon/opt/anaconda3/lib/python3.7/site-packages (from tensorboard) (49.2.0.post20200714)\n",
      "Requirement already satisfied: grpcio>=1.24.3 in /Users/simon/opt/anaconda3/lib/python3.7/site-packages (from tensorboard) (1.32.0)\n",
      "Requirement already satisfied: google-auth<2,>=1.6.3 in /Users/simon/opt/anaconda3/lib/python3.7/site-packages (from tensorboard) (1.17.2)\n",
      "Requirement already satisfied: protobuf>=3.6.0 in /Users/simon/.local/lib/python3.7/site-packages (from tensorboard) (3.11.2)\n",
      "Requirement already satisfied: six>=1.10.0 in /Users/simon/opt/anaconda3/lib/python3.7/site-packages (from tensorboard) (1.15.0)\n",
      "Requirement already satisfied: werkzeug>=0.11.15 in /Users/simon/opt/anaconda3/lib/python3.7/site-packages (from tensorboard) (1.0.1)\n",
      "Requirement already satisfied: requests<3,>=2.21.0 in /Users/simon/opt/anaconda3/lib/python3.7/site-packages (from tensorboard) (2.24.0)\n",
      "Requirement already satisfied: google-auth-oauthlib<0.5,>=0.4.1 in /Users/simon/opt/anaconda3/lib/python3.7/site-packages (from tensorboard) (0.4.1)\n",
      "Requirement already satisfied: absl-py>=0.4 in /Users/simon/opt/anaconda3/lib/python3.7/site-packages (from tensorboard) (0.10.0)\n",
      "Requirement already satisfied: wheel>=0.26; python_version >= \"3\" in /Users/simon/opt/anaconda3/lib/python3.7/site-packages (from tensorboard) (0.34.2)\n",
      "Requirement already satisfied: markdown>=2.6.8 in /Users/simon/opt/anaconda3/lib/python3.7/site-packages (from tensorboard) (3.2.2)\n",
      "Requirement already satisfied: pyasn1-modules>=0.2.1 in /Users/simon/opt/anaconda3/lib/python3.7/site-packages (from google-auth<2,>=1.6.3->tensorboard) (0.2.8)\n",
      "Requirement already satisfied: rsa<5,>=3.1.4; python_version >= \"3\" in /Users/simon/opt/anaconda3/lib/python3.7/site-packages (from google-auth<2,>=1.6.3->tensorboard) (4.0)\n",
      "Requirement already satisfied: cachetools<5.0,>=2.0.0 in /Users/simon/opt/anaconda3/lib/python3.7/site-packages (from google-auth<2,>=1.6.3->tensorboard) (4.1.0)\n",
      "Requirement already satisfied: urllib3!=1.25.0,!=1.25.1,<1.26,>=1.21.1 in /Users/simon/opt/anaconda3/lib/python3.7/site-packages (from requests<3,>=2.21.0->tensorboard) (1.25.10)\n",
      "Requirement already satisfied: chardet<4,>=3.0.2 in /Users/simon/opt/anaconda3/lib/python3.7/site-packages (from requests<3,>=2.21.0->tensorboard) (3.0.4)\n",
      "Requirement already satisfied: idna<3,>=2.5 in /Users/simon/opt/anaconda3/lib/python3.7/site-packages (from requests<3,>=2.21.0->tensorboard) (2.10)\n",
      "Requirement already satisfied: certifi>=2017.4.17 in /Users/simon/opt/anaconda3/lib/python3.7/site-packages (from requests<3,>=2.21.0->tensorboard) (2020.6.20)\n",
      "Requirement already satisfied: requests-oauthlib>=0.7.0 in /Users/simon/opt/anaconda3/lib/python3.7/site-packages (from google-auth-oauthlib<0.5,>=0.4.1->tensorboard) (1.3.0)\n",
      "Requirement already satisfied: importlib-metadata; python_version < \"3.8\" in /Users/simon/opt/anaconda3/lib/python3.7/site-packages (from markdown>=2.6.8->tensorboard) (1.7.0)\n",
      "Requirement already satisfied: pyasn1<0.5.0,>=0.4.6 in /Users/simon/opt/anaconda3/lib/python3.7/site-packages (from pyasn1-modules>=0.2.1->google-auth<2,>=1.6.3->tensorboard) (0.4.8)\n",
      "Requirement already satisfied: oauthlib>=3.0.0 in /Users/simon/opt/anaconda3/lib/python3.7/site-packages (from requests-oauthlib>=0.7.0->google-auth-oauthlib<0.5,>=0.4.1->tensorboard) (3.1.0)\n",
      "Requirement already satisfied: zipp>=0.5 in /Users/simon/opt/anaconda3/lib/python3.7/site-packages (from importlib-metadata; python_version < \"3.8\"->markdown>=2.6.8->tensorboard) (3.1.0)\n",
      "Note: you may need to restart the kernel to use updated packages.\n"
     ]
    }
   ],
   "source": [
    "!tensorboard --logdir=experiments/version_09-11-2020--12-51-44/events.out.tfevents.1604955104.Simons-MBP.60561.0"
   ]
  },
  {
   "cell_type": "code",
   "execution_count": 21,
   "metadata": {},
   "outputs": [
    {
     "output_type": "execute_result",
     "data": {
      "text/plain": [
       "[0, 0, 0, 1, 0, 0, 0, 0, 0, 0, 0, 0, 0, 1]"
      ]
     },
     "metadata": {},
     "execution_count": 21
    }
   ],
   "source": [
    "import pandas as pd\n",
    "\n",
    "data = pd.read_csv('filtered_notes_for_annotation_task.csv').drop('ROW_ID',axis=1)\n",
    "y= data.iloc[33,1:]\n",
    "list(y)"
   ]
  },
  {
   "cell_type": "code",
   "execution_count": 2,
   "metadata": {},
   "outputs": [
    {
     "output_type": "execute_result",
     "data": {
      "text/plain": [
       "                                     path\n",
       "0       files/p10/p10000032/s50414267.txt\n",
       "1       files/p10/p10000032/s53189527.txt\n",
       "2       files/p10/p10000032/s53911762.txt\n",
       "3       files/p10/p10000032/s56699142.txt\n",
       "4       files/p10/p10000764/s57375967.txt\n",
       "...                                   ...\n",
       "227830  files/p19/p19999442/s58708861.txt\n",
       "227831  files/p19/p19999733/s57132437.txt\n",
       "227832  files/p19/p19999987/s55368167.txt\n",
       "227833  files/p19/p19999987/s58621812.txt\n",
       "227834  files/p19/p19999987/s58971208.txt\n",
       "\n",
       "[227835 rows x 1 columns]"
      ],
      "text/html": "<div>\n<style scoped>\n    .dataframe tbody tr th:only-of-type {\n        vertical-align: middle;\n    }\n\n    .dataframe tbody tr th {\n        vertical-align: top;\n    }\n\n    .dataframe thead th {\n        text-align: right;\n    }\n</style>\n<table border=\"1\" class=\"dataframe\">\n  <thead>\n    <tr style=\"text-align: right;\">\n      <th></th>\n      <th>path</th>\n    </tr>\n  </thead>\n  <tbody>\n    <tr>\n      <th>0</th>\n      <td>files/p10/p10000032/s50414267.txt</td>\n    </tr>\n    <tr>\n      <th>1</th>\n      <td>files/p10/p10000032/s53189527.txt</td>\n    </tr>\n    <tr>\n      <th>2</th>\n      <td>files/p10/p10000032/s53911762.txt</td>\n    </tr>\n    <tr>\n      <th>3</th>\n      <td>files/p10/p10000032/s56699142.txt</td>\n    </tr>\n    <tr>\n      <th>4</th>\n      <td>files/p10/p10000764/s57375967.txt</td>\n    </tr>\n    <tr>\n      <th>...</th>\n      <td>...</td>\n    </tr>\n    <tr>\n      <th>227830</th>\n      <td>files/p19/p19999442/s58708861.txt</td>\n    </tr>\n    <tr>\n      <th>227831</th>\n      <td>files/p19/p19999733/s57132437.txt</td>\n    </tr>\n    <tr>\n      <th>227832</th>\n      <td>files/p19/p19999987/s55368167.txt</td>\n    </tr>\n    <tr>\n      <th>227833</th>\n      <td>files/p19/p19999987/s58621812.txt</td>\n    </tr>\n    <tr>\n      <th>227834</th>\n      <td>files/p19/p19999987/s58971208.txt</td>\n    </tr>\n  </tbody>\n</table>\n<p>227835 rows × 1 columns</p>\n</div>"
     },
     "metadata": {},
     "execution_count": 2
    }
   ],
   "source": [
    "\n",
    "notes_mimic_cxr = pd.read_csv('data/mimic-cxr/cxr-study-list.csv.gz',usecols=['path'])\n",
    "\n",
    "notes_mimic_cxr"
   ]
  },
  {
   "cell_type": "code",
   "execution_count": 3,
   "metadata": {},
   "outputs": [
    {
     "output_type": "stream",
     "name": "stderr",
     "text": [
      "Assigning text for radiology studies from directory...: 100%|██████████| 227835/227835 [01:01<00:00, 3733.71it/s]\n"
     ]
    },
    {
     "output_type": "execute_result",
     "data": {
      "text/plain": [
       "                                     path  \\\n",
       "0       files/p10/p10000032/s50414267.txt   \n",
       "1       files/p10/p10000032/s53189527.txt   \n",
       "2       files/p10/p10000032/s53911762.txt   \n",
       "3       files/p10/p10000032/s56699142.txt   \n",
       "4       files/p10/p10000764/s57375967.txt   \n",
       "...                                   ...   \n",
       "227830  files/p19/p19999442/s58708861.txt   \n",
       "227831  files/p19/p19999733/s57132437.txt   \n",
       "227832  files/p19/p19999987/s55368167.txt   \n",
       "227833  files/p19/p19999987/s58621812.txt   \n",
       "227834  files/p19/p19999987/s58971208.txt   \n",
       "\n",
       "                                                     text  \n",
       "0                                        FINAL REPORT\\...  \n",
       "1                                        FINAL REPORT\\...  \n",
       "2                                        FINAL REPORT\\...  \n",
       "3                                        FINAL REPORT\\...  \n",
       "4                                        FINAL REPORT\\...  \n",
       "...                                                   ...  \n",
       "227830                                   FINAL REPORT\\...  \n",
       "227831                                   FINAL REPORT\\...  \n",
       "227832                                   FINAL REPORT\\...  \n",
       "227833                                   FINAL REPORT\\...  \n",
       "227834                                   FINAL REPORT\\...  \n",
       "\n",
       "[227835 rows x 2 columns]"
      ],
      "text/html": "<div>\n<style scoped>\n    .dataframe tbody tr th:only-of-type {\n        vertical-align: middle;\n    }\n\n    .dataframe tbody tr th {\n        vertical-align: top;\n    }\n\n    .dataframe thead th {\n        text-align: right;\n    }\n</style>\n<table border=\"1\" class=\"dataframe\">\n  <thead>\n    <tr style=\"text-align: right;\">\n      <th></th>\n      <th>path</th>\n      <th>text</th>\n    </tr>\n  </thead>\n  <tbody>\n    <tr>\n      <th>0</th>\n      <td>files/p10/p10000032/s50414267.txt</td>\n      <td>FINAL REPORT\\...</td>\n    </tr>\n    <tr>\n      <th>1</th>\n      <td>files/p10/p10000032/s53189527.txt</td>\n      <td>FINAL REPORT\\...</td>\n    </tr>\n    <tr>\n      <th>2</th>\n      <td>files/p10/p10000032/s53911762.txt</td>\n      <td>FINAL REPORT\\...</td>\n    </tr>\n    <tr>\n      <th>3</th>\n      <td>files/p10/p10000032/s56699142.txt</td>\n      <td>FINAL REPORT\\...</td>\n    </tr>\n    <tr>\n      <th>4</th>\n      <td>files/p10/p10000764/s57375967.txt</td>\n      <td>FINAL REPORT\\...</td>\n    </tr>\n    <tr>\n      <th>...</th>\n      <td>...</td>\n      <td>...</td>\n    </tr>\n    <tr>\n      <th>227830</th>\n      <td>files/p19/p19999442/s58708861.txt</td>\n      <td>FINAL REPORT\\...</td>\n    </tr>\n    <tr>\n      <th>227831</th>\n      <td>files/p19/p19999733/s57132437.txt</td>\n      <td>FINAL REPORT\\...</td>\n    </tr>\n    <tr>\n      <th>227832</th>\n      <td>files/p19/p19999987/s55368167.txt</td>\n      <td>FINAL REPORT\\...</td>\n    </tr>\n    <tr>\n      <th>227833</th>\n      <td>files/p19/p19999987/s58621812.txt</td>\n      <td>FINAL REPORT\\...</td>\n    </tr>\n    <tr>\n      <th>227834</th>\n      <td>files/p19/p19999987/s58971208.txt</td>\n      <td>FINAL REPORT\\...</td>\n    </tr>\n  </tbody>\n</table>\n<p>227835 rows × 2 columns</p>\n</div>"
     },
     "metadata": {},
     "execution_count": 3
    }
   ],
   "source": [
    "\n",
    "# notes_mimic_cxr = pd.read_csv('data/mimim-cxr/cxr-study-list.csv.gz',usecols=['path'])\n",
    "#make sure reports are downloaded and unzipped properly\n",
    "# from tqdm.notebook import tqdm_notebook\n",
    "from tqdm import tqdm\n",
    "\n",
    "def get_text(row):\n",
    "    fpath= 'data/mimic-cxr/'+row\n",
    "    with open(fpath, 'r') as file:\n",
    "        text = file.read()\n",
    "    return text\n",
    "\n",
    "tqdm.pandas(desc='Assigning text for radiology studies from directory...')\n",
    "notes_mimic_cxr['text'] = notes_mimic_cxr['path'].progress_apply(get_text)\n",
    "\n",
    "notes_mimic_cxr"
   ]
  },
  {
   "cell_type": "code",
   "execution_count": 4,
   "metadata": {},
   "outputs": [],
   "source": [
    "notes_mimic_cxr = notes_mimic_cxr.drop('path',axis=1)"
   ]
  },
  {
   "cell_type": "code",
   "execution_count": 5,
   "metadata": {},
   "outputs": [
    {
     "output_type": "execute_result",
     "data": {
      "text/plain": [
       "'                                 FINAL REPORT\\n SINGLE FRONTAL VIEW OF THE CHEST\\n \\n REASON FOR EXAM:  Intubated patient, hypoxic respiratory failure.\\n \\n Comparison is made with prior study, ___.\\n \\n Cardiac size is normal.  Lines and tubes are in the standard position.  Large\\n right and moderate left pleural effusions are grossly unchanged allowing the\\n differences in positioning of the patient.  Right upper lobe opacity has\\n improved consistent with improving atelectasis.  Pleural effusions are\\n associated with atelectasis, larger on the right side.  There is mild vascular\\n congestion.\\n'"
      ]
     },
     "metadata": {},
     "execution_count": 5
    }
   ],
   "source": [
    "notes_mimic_cxr.iloc[107].text"
   ]
  },
  {
   "cell_type": "code",
   "execution_count": 6,
   "metadata": {},
   "outputs": [],
   "source": [
    "combined = pd.concat([notes_mimic_iii,notes_mimic_cxr])"
   ]
  },
  {
   "cell_type": "code",
   "execution_count": 79,
   "metadata": {},
   "outputs": [],
   "source": [
    "\n",
    "\n",
    "def preprocess_and_clean_notes(admin_language, notes_df: pd.DataFrame) -> pd.DataFrame:\n",
    "    \"\"\"remove redundant information from the free text, which are discharge summaries,\n",
    "    using both common NLP techniques and heuristic rules\n",
    "\n",
    "    Args:\n",
    "        notes_df (pd.DataFrame): MimicIII's NOTEEVENTS.csv.gz, including the columns:\n",
    "            ['ROW_ID', 'SUBJECT_ID', 'HADM_ID', 'CHARTDATE', 'CHARTTIME',\n",
    "            'STORETIME', 'CATEGORY', 'DESCRIPTION', 'CGID', 'ISERROR', 'TEXT']\n",
    "\n",
    "    Returns:\n",
    "        pd.DataFrame: notes_df, filtered of redundant text\n",
    "    \"\"\"\n",
    "    logger.info(\n",
    "        \"Removing de-id token, admin language and other cruft...\")\n",
    "    with tqdm(total=3+len(admin_language)+6) as pbar:\n",
    "        # notes_df[\"TEXT\"] = notes_df[\"TEXT\"].str.lower()\n",
    "        # pbar.update(1)\n",
    "        notes_df[\"text\"] = notes_df[\"text\"].replace(r\"\\[.*?\\]\", \"\", regex=True)\n",
    "        pbar.update(1)\n",
    "        for admin_token in admin_language:\n",
    "            # Removing admin language...\n",
    "            notes_df[\"text\"] = notes_df[\"text\"].str.replace(admin_token, \"\")\n",
    "            pbar.update(1)\n",
    "        for original, replacement in [\n",
    "            (\"\\n\", \" \"),\n",
    "            (\"\\n\\n\", \" \"),\n",
    "            (\"\\n\\n\\n\", \" \"),\n",
    "            (\"w/\", \"with\"),\n",
    "            (\"_\", \"\"),\n",
    "            (\"#\", \"\"),\n",
    "            (\"\\d+\", \"\"),\n",
    "            ('\\s+', ' '),\n",
    "            ('\\\"', '')\n",
    "        ]:\n",
    "            notes_df[\"text\"] = notes_df[\"text\"].str.replace(\n",
    "                original, replacement)\n",
    "            pbar.update(1)\n",
    "        pbar.update(1)\n",
    "    return notes_df\n",
    "\n",
    "\n",
    "class AdminLanguage:\n",
    "    def __init__(self):\n",
    "        self.explicit_removal = [\n",
    "        \"FINAL REPORT\",\n",
    "        \"Admission Date\",\n",
    "        \"Discharge Date\",\n",
    "        \"Date of Birth\",\n",
    "        \"Phone\",\n",
    "        \"Date/Time\",\n",
    "        \"ID\",\n",
    "        \"Completed by\",\n",
    "        \"Dictated By\",\n",
    "        \"Attending\",\n",
    "        \"Provider: \",\n",
    "        \"Provider\",\n",
    "        \"Primary\",\n",
    "        \"Secondary\",\n",
    "        \" MD Phone\",\n",
    "        \" M.D. Phone\",\n",
    "        \" MD\",\n",
    "        \" PHD\",\n",
    "        \" X\",\n",
    "        \" IV\",\n",
    "        \" VI\",\n",
    "        \" III\",\n",
    "        \" II\",\n",
    "        \" VIII\",\n",
    "        \"JOB#\",\n",
    "        \"JOB#: cc\",\n",
    "        \"# Code\",\n",
    "        \"Metoprolol Tartrate 25 mg Tablet Sig\",\n",
    "        \")\",\n",
    "        \"000 unit/mL Suspension Sig\",\n",
    "        \"0.5 % Drops \",\n",
    "        \"   Status: Inpatient DOB\",\n",
    "        \"Levothyroxine 50 mcg Tablet Sig\",\n",
    "        \"0.5 % Drops Sig\",\n",
    "        \"Lidocaine 5 %(700 mg/patch) Adhesive Patch\",\n",
    "        \"Clopidogrel Bisulfate 75 mg Tablet Sig\",\n",
    "        \"Levofloxacin 500 mg Tablet Sig\",\n",
    "        \"Albuterol 90 mcg/Actuation Aerosol \",\n",
    "        \"None Tech Quality: Adequate Tape #\",\n",
    "        \"000 unit/mL Solution Sig\",\n",
    "        \" x\",\n",
    "        \" am\",\n",
    "        \" pm\",\n",
    "    ]"
   ]
  },
  {
   "cell_type": "code",
   "execution_count": 80,
   "metadata": {},
   "outputs": [],
   "source": [
    "combined_sample = combined[-1000:]"
   ]
  },
  {
   "cell_type": "code",
   "execution_count": 81,
   "metadata": {},
   "outputs": [],
   "source": [
    "from loguru import logger"
   ]
  },
  {
   "cell_type": "code",
   "execution_count": 82,
   "metadata": {},
   "outputs": [
    {
     "output_type": "stream",
     "name": "stderr",
     "text": [
      "2020-11-02 21:52:08.453 | INFO     | __main__:preprocess_and_clean_notes:14 - Removing de-id token, admin language and other cruft...\n",
      "54it [00:00, 447.56it/s]                        \n"
     ]
    },
    {
     "output_type": "execute_result",
     "data": {
      "text/plain": [
       "                                                     text\n",
       "226835   HISTORY: Difficulty breathing, to assess for ...\n",
       "226836   HISTORY: Elevated white count, to assess for ...\n",
       "226837   HISTORY: Chest congestion not resolved with a...\n",
       "226838   EXAMINATION: CHEST (PA AND LAT INDICATION: ye...\n",
       "226839   CHEST RADIOGRAPH PERFORMED ON . COMPARISON: N...\n",
       "...                                                   ...\n",
       "227830   PORTABLE AP CHEST-RAY INDICATION: Patient wit...\n",
       "227831   INDICATION: -year-old with chest pain. TECHNI...\n",
       "227832   PORTABLE CHEST OF COMPARISON: radiograph. FIN...\n",
       "227833   CHEST RADIOGRAPH PERFORMED ON COMPARISON: Pri...\n",
       "227834   INDICATION: -year-old female intubated for he...\n",
       "\n",
       "[1000 rows x 1 columns]"
      ],
      "text/html": "<div>\n<style scoped>\n    .dataframe tbody tr th:only-of-type {\n        vertical-align: middle;\n    }\n\n    .dataframe tbody tr th {\n        vertical-align: top;\n    }\n\n    .dataframe thead th {\n        text-align: right;\n    }\n</style>\n<table border=\"1\" class=\"dataframe\">\n  <thead>\n    <tr style=\"text-align: right;\">\n      <th></th>\n      <th>text</th>\n    </tr>\n  </thead>\n  <tbody>\n    <tr>\n      <th>226835</th>\n      <td>HISTORY: Difficulty breathing, to assess for ...</td>\n    </tr>\n    <tr>\n      <th>226836</th>\n      <td>HISTORY: Elevated white count, to assess for ...</td>\n    </tr>\n    <tr>\n      <th>226837</th>\n      <td>HISTORY: Chest congestion not resolved with a...</td>\n    </tr>\n    <tr>\n      <th>226838</th>\n      <td>EXAMINATION: CHEST (PA AND LAT INDICATION: ye...</td>\n    </tr>\n    <tr>\n      <th>226839</th>\n      <td>CHEST RADIOGRAPH PERFORMED ON . COMPARISON: N...</td>\n    </tr>\n    <tr>\n      <th>...</th>\n      <td>...</td>\n    </tr>\n    <tr>\n      <th>227830</th>\n      <td>PORTABLE AP CHEST-RAY INDICATION: Patient wit...</td>\n    </tr>\n    <tr>\n      <th>227831</th>\n      <td>INDICATION: -year-old with chest pain. TECHNI...</td>\n    </tr>\n    <tr>\n      <th>227832</th>\n      <td>PORTABLE CHEST OF COMPARISON: radiograph. FIN...</td>\n    </tr>\n    <tr>\n      <th>227833</th>\n      <td>CHEST RADIOGRAPH PERFORMED ON COMPARISON: Pri...</td>\n    </tr>\n    <tr>\n      <th>227834</th>\n      <td>INDICATION: -year-old female intubated for he...</td>\n    </tr>\n  </tbody>\n</table>\n<p>1000 rows × 1 columns</p>\n</div>"
     },
     "metadata": {},
     "execution_count": 82
    }
   ],
   "source": [
    "combined_sample = preprocess_and_clean_notes(AdminLanguage().explicit_removal,combined_sample)\n",
    "combined_sample"
   ]
  },
  {
   "cell_type": "code",
   "execution_count": 83,
   "metadata": {},
   "outputs": [],
   "source": [
    "combined_sample = combined_sample['text'] + '\\n\\n'"
   ]
  },
  {
   "cell_type": "code",
   "execution_count": 76,
   "metadata": {},
   "outputs": [],
   "source": [
    "import csv"
   ]
  },
  {
   "cell_type": "code",
   "execution_count": 84,
   "metadata": {},
   "outputs": [],
   "source": [
    "combined_sample.to_csv('TEST.raw',sep='\\n',header=None,index=None)"
   ]
  },
  {
   "cell_type": "code",
   "execution_count": 87,
   "metadata": {},
   "outputs": [
    {
     "output_type": "execute_result",
     "data": {
      "text/plain": [
       "                                                     0\n",
       "0     HISTORY: Difficulty breathing, to assess for ...\n",
       "1     HISTORY: Elevated white count, to assess for ...\n",
       "2     HISTORY: Chest congestion not resolved with a...\n",
       "3     EXAMINATION: CHEST (PA AND LAT INDICATION: ye...\n",
       "4     CHEST RADIOGRAPH PERFORMED ON . COMPARISON: N...\n",
       "..                                                 ...\n",
       "995   PORTABLE AP CHEST-RAY INDICATION: Patient wit...\n",
       "996   INDICATION: -year-old with chest pain. TECHNI...\n",
       "997   PORTABLE CHEST OF COMPARISON: radiograph. FIN...\n",
       "998   CHEST RADIOGRAPH PERFORMED ON COMPARISON: Pri...\n",
       "999   INDICATION: -year-old female intubated for he...\n",
       "\n",
       "[1000 rows x 1 columns]"
      ],
      "text/html": "<div>\n<style scoped>\n    .dataframe tbody tr th:only-of-type {\n        vertical-align: middle;\n    }\n\n    .dataframe tbody tr th {\n        vertical-align: top;\n    }\n\n    .dataframe thead th {\n        text-align: right;\n    }\n</style>\n<table border=\"1\" class=\"dataframe\">\n  <thead>\n    <tr style=\"text-align: right;\">\n      <th></th>\n      <th>0</th>\n    </tr>\n  </thead>\n  <tbody>\n    <tr>\n      <th>0</th>\n      <td>HISTORY: Difficulty breathing, to assess for ...</td>\n    </tr>\n    <tr>\n      <th>1</th>\n      <td>HISTORY: Elevated white count, to assess for ...</td>\n    </tr>\n    <tr>\n      <th>2</th>\n      <td>HISTORY: Chest congestion not resolved with a...</td>\n    </tr>\n    <tr>\n      <th>3</th>\n      <td>EXAMINATION: CHEST (PA AND LAT INDICATION: ye...</td>\n    </tr>\n    <tr>\n      <th>4</th>\n      <td>CHEST RADIOGRAPH PERFORMED ON . COMPARISON: N...</td>\n    </tr>\n    <tr>\n      <th>...</th>\n      <td>...</td>\n    </tr>\n    <tr>\n      <th>995</th>\n      <td>PORTABLE AP CHEST-RAY INDICATION: Patient wit...</td>\n    </tr>\n    <tr>\n      <th>996</th>\n      <td>INDICATION: -year-old with chest pain. TECHNI...</td>\n    </tr>\n    <tr>\n      <th>997</th>\n      <td>PORTABLE CHEST OF COMPARISON: radiograph. FIN...</td>\n    </tr>\n    <tr>\n      <th>998</th>\n      <td>CHEST RADIOGRAPH PERFORMED ON COMPARISON: Pri...</td>\n    </tr>\n    <tr>\n      <th>999</th>\n      <td>INDICATION: -year-old female intubated for he...</td>\n    </tr>\n  </tbody>\n</table>\n<p>1000 rows × 1 columns</p>\n</div>"
     },
     "metadata": {},
     "execution_count": 87
    }
   ],
   "source": [
    "pd.read_csv('TEST.raw',header=None)"
   ]
  },
  {
   "cell_type": "code",
   "execution_count": null,
   "metadata": {},
   "outputs": [],
   "source": []
  }
 ]
}