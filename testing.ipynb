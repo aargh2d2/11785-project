{
 "metadata": {
  "language_info": {
   "codemirror_mode": {
    "name": "ipython",
    "version": 3
   },
   "file_extension": ".py",
   "mimetype": "text/x-python",
   "name": "python",
   "nbconvert_exporter": "python",
   "pygments_lexer": "ipython3",
   "version": "3.7.6-final"
  },
  "orig_nbformat": 2,
  "kernelspec": {
   "name": "Python 3.7.6 64-bit ('base': conda)",
   "display_name": "Python 3.7.6 64-bit ('base': conda)",
   "metadata": {
    "interpreter": {
     "hash": "91edd6a104d1025945ba3544a50f130edccffd432672f119b1530b3e465963de"
    }
   }
  }
 },
 "nbformat": 4,
 "nbformat_minor": 2,
 "cells": [
  {
   "cell_type": "code",
   "execution_count": 19,
   "metadata": {},
   "outputs": [
    {
     "output_type": "execute_result",
     "data": {
      "text/plain": [
       "                                                       0\n",
       "0      Tuberculous pneumonia [any form], tubercle bac...\n",
       "1                  Tuberculous pneumothorax, unspecified\n",
       "2      Tuberculous pneumothorax, bacteriological or h...\n",
       "3      Tuberculous pneumothorax, bacteriological or h...\n",
       "4      Tuberculous pneumothorax, tubercle bacilli fou...\n",
       "...                                                  ...\n",
       "14562  Special screening examination for unspecified ...\n",
       "14563                  Screening examination for cholera\n",
       "14564   Screening examination for pulmonary tuberculosis\n",
       "14565  Screening examination for leprosy (Hansen's di...\n",
       "14566               Screening examination for diphtheria\n",
       "\n",
       "[14567 rows x 1 columns]"
      ],
      "text/html": "<div>\n<style scoped>\n    .dataframe tbody tr th:only-of-type {\n        vertical-align: middle;\n    }\n\n    .dataframe tbody tr th {\n        vertical-align: top;\n    }\n\n    .dataframe thead th {\n        text-align: right;\n    }\n</style>\n<table border=\"1\" class=\"dataframe\">\n  <thead>\n    <tr style=\"text-align: right;\">\n      <th></th>\n      <th>0</th>\n    </tr>\n  </thead>\n  <tbody>\n    <tr>\n      <th>0</th>\n      <td>Tuberculous pneumonia [any form], tubercle bac...</td>\n    </tr>\n    <tr>\n      <th>1</th>\n      <td>Tuberculous pneumothorax, unspecified</td>\n    </tr>\n    <tr>\n      <th>2</th>\n      <td>Tuberculous pneumothorax, bacteriological or h...</td>\n    </tr>\n    <tr>\n      <th>3</th>\n      <td>Tuberculous pneumothorax, bacteriological or h...</td>\n    </tr>\n    <tr>\n      <th>4</th>\n      <td>Tuberculous pneumothorax, tubercle bacilli fou...</td>\n    </tr>\n    <tr>\n      <th>...</th>\n      <td>...</td>\n    </tr>\n    <tr>\n      <th>14562</th>\n      <td>Special screening examination for unspecified ...</td>\n    </tr>\n    <tr>\n      <th>14563</th>\n      <td>Screening examination for cholera</td>\n    </tr>\n    <tr>\n      <th>14564</th>\n      <td>Screening examination for pulmonary tuberculosis</td>\n    </tr>\n    <tr>\n      <th>14565</th>\n      <td>Screening examination for leprosy (Hansen's di...</td>\n    </tr>\n    <tr>\n      <th>14566</th>\n      <td>Screening examination for diphtheria</td>\n    </tr>\n  </tbody>\n</table>\n<p>14567 rows × 1 columns</p>\n</div>"
     },
     "metadata": {},
     "execution_count": 19
    }
   ],
   "source": [
    "import pandas as pd\n",
    "\n",
    "labelmap=pd.read_csv('../data/intermediary-data/xbert_inputs/label_map.txt',sep='\\t',header=None)\n",
    "labelmap"
   ]
  },
  {
   "cell_type": "code",
   "execution_count": 2,
   "metadata": {},
   "outputs": [
    {
     "output_type": "error",
     "ename": "FileNotFoundError",
     "evalue": "[Errno 2] No such file or directory: 'params.yaml'",
     "traceback": [
      "\u001b[0;31m---------------------------------------------------------------------------\u001b[0m",
      "\u001b[0;31mFileNotFoundError\u001b[0m                         Traceback (most recent call last)",
      "\u001b[0;32m<ipython-input-2-49237bec97b9>\u001b[0m in \u001b[0;36m<module>\u001b[0;34m\u001b[0m\n\u001b[1;32m     21\u001b[0m \u001b[0;31m# except ImportError:\u001b[0m\u001b[0;34m\u001b[0m\u001b[0;34m\u001b[0m\u001b[0;34m\u001b[0m\u001b[0m\n\u001b[1;32m     22\u001b[0m \u001b[0;31m#     # when running in a pytest context\u001b[0m\u001b[0;34m\u001b[0m\u001b[0;34m\u001b[0m\u001b[0;34m\u001b[0m\u001b[0m\n\u001b[0;32m---> 23\u001b[0;31m \u001b[0;32mimport\u001b[0m \u001b[0mformat_data_for_training\u001b[0m\u001b[0;34m\u001b[0m\u001b[0;34m\u001b[0m\u001b[0m\n\u001b[0m\u001b[1;32m     24\u001b[0m \u001b[0;34m\u001b[0m\u001b[0m\n\u001b[1;32m     25\u001b[0m \u001b[0;31m# input filepaths.\u001b[0m\u001b[0;34m\u001b[0m\u001b[0;34m\u001b[0m\u001b[0;34m\u001b[0m\u001b[0m\n",
      "\u001b[0;32m~/GitHub/11785-project/preprocessing_pipeline/format_data_for_training.py\u001b[0m in \u001b[0;36m<module>\u001b[0;34m\u001b[0m\n\u001b[1;32m     22\u001b[0m \u001b[0;34m\u001b[0m\u001b[0m\n\u001b[1;32m     23\u001b[0m \u001b[0;34m\u001b[0m\u001b[0m\n\u001b[0;32m---> 24\u001b[0;31m \u001b[0;32mwith\u001b[0m \u001b[0mopen\u001b[0m\u001b[0;34m(\u001b[0m\u001b[0;34m'params.yaml'\u001b[0m\u001b[0;34m,\u001b[0m \u001b[0;34m'r'\u001b[0m\u001b[0;34m)\u001b[0m \u001b[0;32mas\u001b[0m \u001b[0mf\u001b[0m\u001b[0;34m:\u001b[0m\u001b[0;34m\u001b[0m\u001b[0;34m\u001b[0m\u001b[0m\n\u001b[0m\u001b[1;32m     25\u001b[0m     \u001b[0mparams\u001b[0m \u001b[0;34m=\u001b[0m \u001b[0myaml\u001b[0m\u001b[0;34m.\u001b[0m\u001b[0msafe_load\u001b[0m\u001b[0;34m(\u001b[0m\u001b[0mf\u001b[0m\u001b[0;34m.\u001b[0m\u001b[0mread\u001b[0m\u001b[0;34m(\u001b[0m\u001b[0;34m)\u001b[0m\u001b[0;34m)\u001b[0m\u001b[0;34m\u001b[0m\u001b[0;34m\u001b[0m\u001b[0m\n\u001b[1;32m     26\u001b[0m \u001b[0micd_version_specified\u001b[0m \u001b[0;34m=\u001b[0m \u001b[0mstr\u001b[0m\u001b[0;34m(\u001b[0m\u001b[0mparams\u001b[0m\u001b[0;34m[\u001b[0m\u001b[0;34m'prepare_for_xbert'\u001b[0m\u001b[0;34m]\u001b[0m\u001b[0;34m[\u001b[0m\u001b[0;34m'icd_version'\u001b[0m\u001b[0;34m]\u001b[0m\u001b[0;34m)\u001b[0m\u001b[0;34m\u001b[0m\u001b[0;34m\u001b[0m\u001b[0m\n",
      "\u001b[0;31mFileNotFoundError\u001b[0m: [Errno 2] No such file or directory: 'params.yaml'"
     ]
    }
   ],
   "source": [
    "from pathlib import Path\n",
    "\n",
    "import typing as t\n",
    "import re\n",
    "import pandas as pd\n",
    "import scipy\n",
    "import yaml\n",
    "import numpy as np\n",
    "from loguru import logger\n",
    "from tqdm import tqdm\n",
    "\n",
    "import scipy.sparse\n",
    "\n",
    "import sys\n",
    "sys.path.append(\".\")\n",
    "# from icd9 import ICD9\n",
    "\n",
    "\n",
    "# try:\n",
    "#     import format_data_for_training #script from auto-icd\n",
    "# except ImportError:\n",
    "#     # when running in a pytest context\n",
    "import format_data_for_training\n",
    "\n",
    "# input filepaths.\n",
    "DIAGNOSIS_CSV_FP = \"./data/mimiciii-14/DIAGNOSES_ICD.csv.gz\"\n",
    "PROCEDURES_CSV_FP = \"./data/mimiciii-14/PROCEDURES_ICD.csv\"\n",
    "ICD9_DIAG_KEY_FP = \"./data/mimiciii-14/D_ICD_DIAGNOSES.csv.gz\"\n",
    "ICD9_PROC_KEY_FP = \"./data/mimiciii-14/D_ICD_PROCEDURES.csv\"\n",
    "\n",
    "# ICD_GEM_FP = \"./data/ICD_general_equivalence_mapping.csv\" #for conversion to ICd10\n",
    "\n",
    "# output filepaths\n",
    "XBERT_LABEL_MAP_FP = './data/intermediary-data/xbert_inputs/label_map.txt'\n",
    "XBERT_TRAIN_RAW_TEXTS_FP = './data/intermediary-data/xbert_inputs/train_raw_texts.txt'\n",
    "XBERT_VAL_RAW_TEXTS_FP = './data/intermediary-data/xbert_inputs/val_raw_texts.txt'\n",
    "XBERT_TEST_RAW_TEXTS_FP = './data/intermediary-data/xbert_inputs/test_raw_texts.txt'\n",
    "\n",
    "XBERT_Y_TRN_FP = './data/intermediary-data/xbert_inputs/Y.trn.npz'\n",
    "XBERT_Y_VAL_FP = './data/intermediary-data/xbert_inputs/Y.val.npz'\n",
    "XBERT_Y_TST_FP = './data/intermediary-data/xbert_inputs/Y.tst.npz'\n",
    "DF_TRAIN_FP ='./data/intermediary-data/df_train.pkl'\n",
    "DF_TEST_FP = './data/intermediary-data/df_test.pkl'\n",
    "\n",
    "\n",
    "def main():\n",
    "    with open('params.yaml', 'r') as f:\n",
    "        params = yaml.safe_load(f.read())\n",
    "    icd_version_specified = str(params['prepare_for_xbert']['icd_version'])\n",
    "    diag_or_proc_param = params['prepare_for_xbert']['diag_or_proc']\n",
    "    assert diag_or_proc_param == 'proc' or diag_or_proc_param == 'diag', 'Must specify either \\'proc\\' or \\'diag\\'.'\n",
    "    note_category_param = params['prepare_for_xbert']['note_category']\n",
    "    icd_seq_num_param = params['prepare_for_xbert']['one_or_all_icds']\n",
    "    subsampling_param = params['prepare_for_xbert']['subsampling']\n",
    "\n",
    "    logger.info(f'Using ICD version {icd_version_specified}...')\n",
    "    assert icd_version_specified == '9' or icd_version_specified == '10', 'Must specify one of ICD9 or ICD10.'\n",
    "    logger.info('Reformatting raw data with subsampling {}', 'enabled' if subsampling_param else 'disabled')\n",
    "\n",
    "    df_train, df_val, df_test = \\\n",
    "        format_data_for_training.construct_datasets(\n",
    "            diag_or_proc_param, note_category_param, subsampling_param)\n",
    "\n",
    "\n",
    "    # X_trn = xbert_prepare_txt_inputs(df_train, 'training')\n",
    "    # X_val = xbert_prepare_txt_inputs(df_val, 'validation')\n",
    "    # X_tst = xbert_prepare_txt_inputs(df_test, 'testing')\n",
    "\n",
    "\n",
    "    icd_labels, desc_labels = xbert_create_label_map(icd_version_specified, diag_or_proc_param)\n",
    "    #need codes, not descriptions right now.\n",
    "\n",
    "    icd_labels.to_csv('data/icd_labels.csv')\n",
    "\n",
    "    data_train = xbert_prepare_Y_maps(\n",
    "        df_train, icd_labels.tolist(), icd_version_specified)\n",
    "\n",
    "    data_val = xbert_prepare_Y_maps(\n",
    "        df_val, icd_labels.tolist(), icd_version_specified)\n",
    "\n",
    "    data_test = xbert_prepare_Y_maps(\n",
    "        df_test, icd_labels.tolist(), icd_version_specified)\n",
    "\n",
    "    logger.info('Created dataframes of hospital admission to assigned ICD codes.')\n",
    "\n",
    "    data_train = data_train.insert(loc=0,column='TEXT',value= df_train['TEXT'])\n",
    "    data_val  = data_val.insert(loc=0,column='TEXT',value= df_val['TEXT'])\n",
    "    data_test = data_test.insert(loc=0,column='TEXT',value= df_test['TEXT'])\n",
    "\n",
    "\n",
    "    logger.info(\n",
    "        'Done preprocessing for multilabel classification. Saving CSV of columns [text, code1,code2,...,codeL].'\n",
    "    )"
   ]
  },
  {
   "cell_type": "code",
   "execution_count": null,
   "metadata": {},
   "outputs": [],
   "source": []
  },
  {
   "cell_type": "code",
   "execution_count": 39,
   "metadata": {},
   "outputs": [
    {
     "output_type": "execute_result",
     "data": {
      "text/plain": [
       "                                                       TEXT ICD9_CODE\n",
       "HADM_ID                                                              \n",
       "188354.0  : : : Sex: F Service: MEDICINE Allergies: Sulf...     44023\n",
       "104471.0  : : : Sex: F Service: CARDIOTHORACIC Allergies...      4240\n",
       "157504.0  : : : Sex: M Service: NBB HISTORY OF PRESENT I...      7746\n",
       "157762.0  : : : Sex: F Service: NEONATOLOGY HISTORY: wee...     V3001\n",
       "109320.0  : : Service: MEDICINE Allergies: Patient recor...     41071\n",
       "...                                                     ...       ...\n",
       "183203.0  : : : Sex: M Service: MEDICINE Allergies: Peni...     42823\n",
       "121367.0  : : : Sex: M Service: Neonatology HISTORY: . i...     V3001\n",
       "137842.0  : : : Sex: M Service: SURGERY Allergies: Demer...      1550\n",
       "167746.0  : : Service: GU Allergies: Amoxicillin / Aldom...     59010\n",
       "185868.0  : : : Sex: M Service: MEDICINE Allergies: Dila...      5845\n",
       "\n",
       "[30915 rows x 2 columns]"
      ],
      "text/html": "<div>\n<style scoped>\n    .dataframe tbody tr th:only-of-type {\n        vertical-align: middle;\n    }\n\n    .dataframe tbody tr th {\n        vertical-align: top;\n    }\n\n    .dataframe thead th {\n        text-align: right;\n    }\n</style>\n<table border=\"1\" class=\"dataframe\">\n  <thead>\n    <tr style=\"text-align: right;\">\n      <th></th>\n      <th>TEXT</th>\n      <th>ICD9_CODE</th>\n    </tr>\n    <tr>\n      <th>HADM_ID</th>\n      <th></th>\n      <th></th>\n    </tr>\n  </thead>\n  <tbody>\n    <tr>\n      <th>188354.0</th>\n      <td>: : : Sex: F Service: MEDICINE Allergies: Sulf...</td>\n      <td>44023</td>\n    </tr>\n    <tr>\n      <th>104471.0</th>\n      <td>: : : Sex: F Service: CARDIOTHORACIC Allergies...</td>\n      <td>4240</td>\n    </tr>\n    <tr>\n      <th>157504.0</th>\n      <td>: : : Sex: M Service: NBB HISTORY OF PRESENT I...</td>\n      <td>7746</td>\n    </tr>\n    <tr>\n      <th>157762.0</th>\n      <td>: : : Sex: F Service: NEONATOLOGY HISTORY: wee...</td>\n      <td>V3001</td>\n    </tr>\n    <tr>\n      <th>109320.0</th>\n      <td>: : Service: MEDICINE Allergies: Patient recor...</td>\n      <td>41071</td>\n    </tr>\n    <tr>\n      <th>...</th>\n      <td>...</td>\n      <td>...</td>\n    </tr>\n    <tr>\n      <th>183203.0</th>\n      <td>: : : Sex: M Service: MEDICINE Allergies: Peni...</td>\n      <td>42823</td>\n    </tr>\n    <tr>\n      <th>121367.0</th>\n      <td>: : : Sex: M Service: Neonatology HISTORY: . i...</td>\n      <td>V3001</td>\n    </tr>\n    <tr>\n      <th>137842.0</th>\n      <td>: : : Sex: M Service: SURGERY Allergies: Demer...</td>\n      <td>1550</td>\n    </tr>\n    <tr>\n      <th>167746.0</th>\n      <td>: : Service: GU Allergies: Amoxicillin / Aldom...</td>\n      <td>59010</td>\n    </tr>\n    <tr>\n      <th>185868.0</th>\n      <td>: : : Sex: M Service: MEDICINE Allergies: Dila...</td>\n      <td>5845</td>\n    </tr>\n  </tbody>\n</table>\n<p>30915 rows × 2 columns</p>\n</div>"
     },
     "metadata": {},
     "execution_count": 39
    }
   ],
   "source": [
    "train_data = pd.read_pickle('/Users/simon/GitHub/11785-project/data/intermediary-data/notes2diagnosis-icd-train_df').drop('CATEGORY',axis=1)\n",
    "test_data = pd.read_pickle('/Users/simon/GitHub/11785-project/data/intermediary-data/notes2diagnosis-icd-test_df').drop('CATEGORY',axis=1)\n"
   ]
  },
  {
   "cell_type": "code",
   "execution_count": 40,
   "metadata": {},
   "outputs": [
    {
     "output_type": "execute_result",
     "data": {
      "text/plain": [
       "     HADM_ID                                               TEXT  \\\n",
       "0   188044.0  : : : Sex: M Service: Cardiothoracic HISTORY O...   \n",
       "1   105949.0  Name: , Unit No: : : : Sex: F Service: This is...   \n",
       "2   124546.0  : : : Sex: F Service: MEDICINE Allergies: Sulf...   \n",
       "3   112611.0  : : : Sex: M Service: CARDIOTHORACIC Allergies...   \n",
       "4   162732.0  : : : Sex: M Service: NB was born at -/ weeks ...   \n",
       "..       ...                                                ...   \n",
       "75  131460.0  : : : Sex: F Service: MICU CHIEF COMPLAINT: Sh...   \n",
       "76  120068.0  : : : Sex: F Service: MEDICINE Allergies: Zolp...   \n",
       "77  112776.0  : : : Sex: F Service: SURGERY Allergies: Cepha...   \n",
       "78  132480.0  : : : Sex: F Service: SURGERY Allergies: Patie...   \n",
       "79  170501.0  : : : Sex: M Service: MEDICINE Allergies: Pati...   \n",
       "\n",
       "             CATEGORY ICD9_CODE  \n",
       "0   Discharge summary     99859  \n",
       "1   Discharge summary     85102  \n",
       "2   Discharge summary      5789  \n",
       "3   Discharge summary     41401  \n",
       "4   Discharge summary     V3000  \n",
       "..                ...       ...  \n",
       "75  Discharge summary     51881  \n",
       "76  Discharge summary     99662  \n",
       "77  Discharge summary      5570  \n",
       "78  Discharge summary      4280  \n",
       "79  Discharge summary     51884  \n",
       "\n",
       "[80 rows x 4 columns]"
      ],
      "text/html": "<div>\n<style scoped>\n    .dataframe tbody tr th:only-of-type {\n        vertical-align: middle;\n    }\n\n    .dataframe tbody tr th {\n        vertical-align: top;\n    }\n\n    .dataframe thead th {\n        text-align: right;\n    }\n</style>\n<table border=\"1\" class=\"dataframe\">\n  <thead>\n    <tr style=\"text-align: right;\">\n      <th></th>\n      <th>HADM_ID</th>\n      <th>TEXT</th>\n      <th>CATEGORY</th>\n      <th>ICD9_CODE</th>\n    </tr>\n  </thead>\n  <tbody>\n    <tr>\n      <th>0</th>\n      <td>188044.0</td>\n      <td>: : : Sex: M Service: Cardiothoracic HISTORY O...</td>\n      <td>Discharge summary</td>\n      <td>99859</td>\n    </tr>\n    <tr>\n      <th>1</th>\n      <td>105949.0</td>\n      <td>Name: , Unit No: : : : Sex: F Service: This is...</td>\n      <td>Discharge summary</td>\n      <td>85102</td>\n    </tr>\n    <tr>\n      <th>2</th>\n      <td>124546.0</td>\n      <td>: : : Sex: F Service: MEDICINE Allergies: Sulf...</td>\n      <td>Discharge summary</td>\n      <td>5789</td>\n    </tr>\n    <tr>\n      <th>3</th>\n      <td>112611.0</td>\n      <td>: : : Sex: M Service: CARDIOTHORACIC Allergies...</td>\n      <td>Discharge summary</td>\n      <td>41401</td>\n    </tr>\n    <tr>\n      <th>4</th>\n      <td>162732.0</td>\n      <td>: : : Sex: M Service: NB was born at -/ weeks ...</td>\n      <td>Discharge summary</td>\n      <td>V3000</td>\n    </tr>\n    <tr>\n      <th>...</th>\n      <td>...</td>\n      <td>...</td>\n      <td>...</td>\n      <td>...</td>\n    </tr>\n    <tr>\n      <th>75</th>\n      <td>131460.0</td>\n      <td>: : : Sex: F Service: MICU CHIEF COMPLAINT: Sh...</td>\n      <td>Discharge summary</td>\n      <td>51881</td>\n    </tr>\n    <tr>\n      <th>76</th>\n      <td>120068.0</td>\n      <td>: : : Sex: F Service: MEDICINE Allergies: Zolp...</td>\n      <td>Discharge summary</td>\n      <td>99662</td>\n    </tr>\n    <tr>\n      <th>77</th>\n      <td>112776.0</td>\n      <td>: : : Sex: F Service: SURGERY Allergies: Cepha...</td>\n      <td>Discharge summary</td>\n      <td>5570</td>\n    </tr>\n    <tr>\n      <th>78</th>\n      <td>132480.0</td>\n      <td>: : : Sex: F Service: SURGERY Allergies: Patie...</td>\n      <td>Discharge summary</td>\n      <td>4280</td>\n    </tr>\n    <tr>\n      <th>79</th>\n      <td>170501.0</td>\n      <td>: : : Sex: M Service: MEDICINE Allergies: Pati...</td>\n      <td>Discharge summary</td>\n      <td>51884</td>\n    </tr>\n  </tbody>\n</table>\n<p>80 rows × 4 columns</p>\n</div>"
     },
     "metadata": {},
     "execution_count": 40
    }
   ],
   "source": [
    "pd.read_csv('/Users/simon/GitHub/11785-project/data/intermediary-data/notes2diagnosis-icd-train.csv')"
   ]
  },
  {
   "cell_type": "code",
   "execution_count": null,
   "metadata": {},
   "outputs": [],
   "source": []
  },
  {
   "cell_type": "code",
   "execution_count": 23,
   "metadata": {},
   "outputs": [
    {
     "output_type": "execute_result",
     "data": {
      "text/plain": [
       "       0      1      2      3      4      5      6      7      8      9      \\\n",
       "0          0      0      0      0      0      0      0      0      0      0   \n",
       "1          0      0      0      0      0      0      0      0      0      0   \n",
       "2          0      0      0      0      0      0      0      0      0      0   \n",
       "3          0      0      0      0      0      0      0      0      0      0   \n",
       "4          0      0      0      0      0      0      0      0      0      0   \n",
       "...      ...    ...    ...    ...    ...    ...    ...    ...    ...    ...   \n",
       "30910      0      0      0      0      0      0      0      0      0      0   \n",
       "30911      0      0      0      0      0      0      0      0      0      0   \n",
       "30912      0      0      0      0      0      0      0      0      0      0   \n",
       "30913      0      0      0      0      0      0      0      0      0      0   \n",
       "30914      0      0      0      0      0      0      0      0      0      0   \n",
       "\n",
       "       ...  14557  14558  14559  14560  14561  14562  14563  14564  14565  \\\n",
       "0      ...      0      0      0      0      0      0      0      0      0   \n",
       "1      ...      0      0      0      0      0      0      0      0      0   \n",
       "2      ...      0      0      0      0      0      0      0      0      0   \n",
       "3      ...      0      0      0      0      0      0      0      0      0   \n",
       "4      ...      0      0      0      0      0      0      0      0      0   \n",
       "...    ...    ...    ...    ...    ...    ...    ...    ...    ...    ...   \n",
       "30910  ...      0      0      0      0      0      0      0      0      0   \n",
       "30911  ...      0      0      0      0      0      0      0      0      0   \n",
       "30912  ...      0      0      0      0      0      0      0      0      0   \n",
       "30913  ...      0      0      0      0      0      0      0      0      0   \n",
       "30914  ...      0      0      0      0      0      0      0      0      0   \n",
       "\n",
       "       14566  \n",
       "0          0  \n",
       "1          0  \n",
       "2          0  \n",
       "3          0  \n",
       "4          0  \n",
       "...      ...  \n",
       "30910      0  \n",
       "30911      0  \n",
       "30912      0  \n",
       "30913      0  \n",
       "30914      0  \n",
       "\n",
       "[30915 rows x 14567 columns]"
      ],
      "text/html": "<div>\n<style scoped>\n    .dataframe tbody tr th:only-of-type {\n        vertical-align: middle;\n    }\n\n    .dataframe tbody tr th {\n        vertical-align: top;\n    }\n\n    .dataframe thead th {\n        text-align: right;\n    }\n</style>\n<table border=\"1\" class=\"dataframe\">\n  <thead>\n    <tr style=\"text-align: right;\">\n      <th></th>\n      <th>0</th>\n      <th>1</th>\n      <th>2</th>\n      <th>3</th>\n      <th>4</th>\n      <th>5</th>\n      <th>6</th>\n      <th>7</th>\n      <th>8</th>\n      <th>9</th>\n      <th>...</th>\n      <th>14557</th>\n      <th>14558</th>\n      <th>14559</th>\n      <th>14560</th>\n      <th>14561</th>\n      <th>14562</th>\n      <th>14563</th>\n      <th>14564</th>\n      <th>14565</th>\n      <th>14566</th>\n    </tr>\n  </thead>\n  <tbody>\n    <tr>\n      <th>0</th>\n      <td>0</td>\n      <td>0</td>\n      <td>0</td>\n      <td>0</td>\n      <td>0</td>\n      <td>0</td>\n      <td>0</td>\n      <td>0</td>\n      <td>0</td>\n      <td>0</td>\n      <td>...</td>\n      <td>0</td>\n      <td>0</td>\n      <td>0</td>\n      <td>0</td>\n      <td>0</td>\n      <td>0</td>\n      <td>0</td>\n      <td>0</td>\n      <td>0</td>\n      <td>0</td>\n    </tr>\n    <tr>\n      <th>1</th>\n      <td>0</td>\n      <td>0</td>\n      <td>0</td>\n      <td>0</td>\n      <td>0</td>\n      <td>0</td>\n      <td>0</td>\n      <td>0</td>\n      <td>0</td>\n      <td>0</td>\n      <td>...</td>\n      <td>0</td>\n      <td>0</td>\n      <td>0</td>\n      <td>0</td>\n      <td>0</td>\n      <td>0</td>\n      <td>0</td>\n      <td>0</td>\n      <td>0</td>\n      <td>0</td>\n    </tr>\n    <tr>\n      <th>2</th>\n      <td>0</td>\n      <td>0</td>\n      <td>0</td>\n      <td>0</td>\n      <td>0</td>\n      <td>0</td>\n      <td>0</td>\n      <td>0</td>\n      <td>0</td>\n      <td>0</td>\n      <td>...</td>\n      <td>0</td>\n      <td>0</td>\n      <td>0</td>\n      <td>0</td>\n      <td>0</td>\n      <td>0</td>\n      <td>0</td>\n      <td>0</td>\n      <td>0</td>\n      <td>0</td>\n    </tr>\n    <tr>\n      <th>3</th>\n      <td>0</td>\n      <td>0</td>\n      <td>0</td>\n      <td>0</td>\n      <td>0</td>\n      <td>0</td>\n      <td>0</td>\n      <td>0</td>\n      <td>0</td>\n      <td>0</td>\n      <td>...</td>\n      <td>0</td>\n      <td>0</td>\n      <td>0</td>\n      <td>0</td>\n      <td>0</td>\n      <td>0</td>\n      <td>0</td>\n      <td>0</td>\n      <td>0</td>\n      <td>0</td>\n    </tr>\n    <tr>\n      <th>4</th>\n      <td>0</td>\n      <td>0</td>\n      <td>0</td>\n      <td>0</td>\n      <td>0</td>\n      <td>0</td>\n      <td>0</td>\n      <td>0</td>\n      <td>0</td>\n      <td>0</td>\n      <td>...</td>\n      <td>0</td>\n      <td>0</td>\n      <td>0</td>\n      <td>0</td>\n      <td>0</td>\n      <td>0</td>\n      <td>0</td>\n      <td>0</td>\n      <td>0</td>\n      <td>0</td>\n    </tr>\n    <tr>\n      <th>...</th>\n      <td>...</td>\n      <td>...</td>\n      <td>...</td>\n      <td>...</td>\n      <td>...</td>\n      <td>...</td>\n      <td>...</td>\n      <td>...</td>\n      <td>...</td>\n      <td>...</td>\n      <td>...</td>\n      <td>...</td>\n      <td>...</td>\n      <td>...</td>\n      <td>...</td>\n      <td>...</td>\n      <td>...</td>\n      <td>...</td>\n      <td>...</td>\n      <td>...</td>\n      <td>...</td>\n    </tr>\n    <tr>\n      <th>30910</th>\n      <td>0</td>\n      <td>0</td>\n      <td>0</td>\n      <td>0</td>\n      <td>0</td>\n      <td>0</td>\n      <td>0</td>\n      <td>0</td>\n      <td>0</td>\n      <td>0</td>\n      <td>...</td>\n      <td>0</td>\n      <td>0</td>\n      <td>0</td>\n      <td>0</td>\n      <td>0</td>\n      <td>0</td>\n      <td>0</td>\n      <td>0</td>\n      <td>0</td>\n      <td>0</td>\n    </tr>\n    <tr>\n      <th>30911</th>\n      <td>0</td>\n      <td>0</td>\n      <td>0</td>\n      <td>0</td>\n      <td>0</td>\n      <td>0</td>\n      <td>0</td>\n      <td>0</td>\n      <td>0</td>\n      <td>0</td>\n      <td>...</td>\n      <td>0</td>\n      <td>0</td>\n      <td>0</td>\n      <td>0</td>\n      <td>0</td>\n      <td>0</td>\n      <td>0</td>\n      <td>0</td>\n      <td>0</td>\n      <td>0</td>\n    </tr>\n    <tr>\n      <th>30912</th>\n      <td>0</td>\n      <td>0</td>\n      <td>0</td>\n      <td>0</td>\n      <td>0</td>\n      <td>0</td>\n      <td>0</td>\n      <td>0</td>\n      <td>0</td>\n      <td>0</td>\n      <td>...</td>\n      <td>0</td>\n      <td>0</td>\n      <td>0</td>\n      <td>0</td>\n      <td>0</td>\n      <td>0</td>\n      <td>0</td>\n      <td>0</td>\n      <td>0</td>\n      <td>0</td>\n    </tr>\n    <tr>\n      <th>30913</th>\n      <td>0</td>\n      <td>0</td>\n      <td>0</td>\n      <td>0</td>\n      <td>0</td>\n      <td>0</td>\n      <td>0</td>\n      <td>0</td>\n      <td>0</td>\n      <td>0</td>\n      <td>...</td>\n      <td>0</td>\n      <td>0</td>\n      <td>0</td>\n      <td>0</td>\n      <td>0</td>\n      <td>0</td>\n      <td>0</td>\n      <td>0</td>\n      <td>0</td>\n      <td>0</td>\n    </tr>\n    <tr>\n      <th>30914</th>\n      <td>0</td>\n      <td>0</td>\n      <td>0</td>\n      <td>0</td>\n      <td>0</td>\n      <td>0</td>\n      <td>0</td>\n      <td>0</td>\n      <td>0</td>\n      <td>0</td>\n      <td>...</td>\n      <td>0</td>\n      <td>0</td>\n      <td>0</td>\n      <td>0</td>\n      <td>0</td>\n      <td>0</td>\n      <td>0</td>\n      <td>0</td>\n      <td>0</td>\n      <td>0</td>\n    </tr>\n  </tbody>\n</table>\n<p>30915 rows × 14567 columns</p>\n</div>"
     },
     "metadata": {},
     "execution_count": 23
    }
   ],
   "source": [
    "instance2label=pd.DataFrame(scipy.sparse.load_npz('../data/intermediary-data/xbert_inputs/Y.trn.npz').todense())\n",
    "instance2label"
   ]
  },
  {
   "cell_type": "code",
   "execution_count": null,
   "metadata": {},
   "outputs": [],
   "source": [
    "instance2label"
   ]
  },
  {
   "cell_type": "code",
   "execution_count": 31,
   "metadata": {},
   "outputs": [
    {
     "output_type": "execute_result",
     "data": {
      "text/plain": [
       "                                                       0\n",
       "0      : : : Sex: F Service: MEDICINE Allergies: Sulf...\n",
       "1      : : : Sex: F Service: CARDIOTHORACIC Allergies...\n",
       "2      : : : Sex: M Service: NBB HISTORY OF PRESENT I...\n",
       "3      : : : Sex: F Service: NEONATOLOGY HISTORY: wee...\n",
       "4      : : Service: MEDICINE Allergies: Patient recor...\n",
       "...                                                  ...\n",
       "30910  : : : Sex: M Service: MEDICINE Allergies: Peni...\n",
       "30911  : : : Sex: M Service: Neonatology HISTORY: . i...\n",
       "30912  : : : Sex: M Service: SURGERY Allergies: Demer...\n",
       "30913  : : Service: GU Allergies: Amoxicillin / Aldom...\n",
       "30914  : : : Sex: M Service: MEDICINE Allergies: Dila...\n",
       "\n",
       "[30915 rows x 1 columns]"
      ],
      "text/html": "<div>\n<style scoped>\n    .dataframe tbody tr th:only-of-type {\n        vertical-align: middle;\n    }\n\n    .dataframe tbody tr th {\n        vertical-align: top;\n    }\n\n    .dataframe thead th {\n        text-align: right;\n    }\n</style>\n<table border=\"1\" class=\"dataframe\">\n  <thead>\n    <tr style=\"text-align: right;\">\n      <th></th>\n      <th>0</th>\n    </tr>\n  </thead>\n  <tbody>\n    <tr>\n      <th>0</th>\n      <td>: : : Sex: F Service: MEDICINE Allergies: Sulf...</td>\n    </tr>\n    <tr>\n      <th>1</th>\n      <td>: : : Sex: F Service: CARDIOTHORACIC Allergies...</td>\n    </tr>\n    <tr>\n      <th>2</th>\n      <td>: : : Sex: M Service: NBB HISTORY OF PRESENT I...</td>\n    </tr>\n    <tr>\n      <th>3</th>\n      <td>: : : Sex: F Service: NEONATOLOGY HISTORY: wee...</td>\n    </tr>\n    <tr>\n      <th>4</th>\n      <td>: : Service: MEDICINE Allergies: Patient recor...</td>\n    </tr>\n    <tr>\n      <th>...</th>\n      <td>...</td>\n    </tr>\n    <tr>\n      <th>30910</th>\n      <td>: : : Sex: M Service: MEDICINE Allergies: Peni...</td>\n    </tr>\n    <tr>\n      <th>30911</th>\n      <td>: : : Sex: M Service: Neonatology HISTORY: . i...</td>\n    </tr>\n    <tr>\n      <th>30912</th>\n      <td>: : : Sex: M Service: SURGERY Allergies: Demer...</td>\n    </tr>\n    <tr>\n      <th>30913</th>\n      <td>: : Service: GU Allergies: Amoxicillin / Aldom...</td>\n    </tr>\n    <tr>\n      <th>30914</th>\n      <td>: : : Sex: M Service: MEDICINE Allergies: Dila...</td>\n    </tr>\n  </tbody>\n</table>\n<p>30915 rows × 1 columns</p>\n</div>"
     },
     "metadata": {},
     "execution_count": 31
    }
   ],
   "source": [
    "trn_texts = pd.read_csv('/Users/simon/GitHub/11785-project/data/intermediary-data/xbert_inputs/train_raw_texts.txt',header=None,sep='\\t')\n",
    "trn_texts"
   ]
  },
  {
   "cell_type": "code",
   "execution_count": null,
   "metadata": {},
   "outputs": [],
   "source": [
    "y = instance2label"
   ]
  },
  {
   "cell_type": "code",
   "execution_count": null,
   "metadata": {},
   "outputs": [],
   "source": []
  }
 ]
}